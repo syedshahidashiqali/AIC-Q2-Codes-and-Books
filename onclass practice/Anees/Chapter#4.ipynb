{
 "cells": [
  {
   "cell_type": "markdown",
   "metadata": {},
   "source": [
    "## Chapter#4 [NumPy Basics: Arrays and Vectorized Computation]"
   ]
  },
  {
   "cell_type": "markdown",
   "metadata": {},
   "source": [
    "## package\n",
    "package bohot saari files ko 1 sat jama kardenge to usko hum package kehte hain"
   ]
  },
  {
   "cell_type": "raw",
   "metadata": {},
   "source": [
    "ndarray \n",
    "n dimensional yaani multi dimension tak jasakta hai"
   ]
  },
  {
   "cell_type": "raw",
   "metadata": {},
   "source": [
    "# 1)array-oriented arith‐metic\n",
    "> \n",
    "\n",
    "# 2)flexible broadcasting capabilities"
   ]
  },
  {
   "cell_type": "raw",
   "metadata": {},
   "source": [
    "pg 86, 87"
   ]
  },
  {
   "cell_type": "markdown",
   "metadata": {},
   "source": [
    "## Class#2"
   ]
  },
  {
   "cell_type": "code",
   "execution_count": null,
   "metadata": {},
   "outputs": [],
   "source": [
    " ndarray = np.array ([\n",
    "     [\n",
    "     [111, 112, 113, 114 ], [121, 122, 123, 124] , [131, 132, 133, 134]\n",
    "     ],\n",
    "     [\n",
    "     [211, 212, 213, 214], [221, 222, 223, 224], [231, 232, 233, 234]\n",
    "     ],\n",
    "     [\n",
    "     [311, 312, 313, 314], [321, 322, 323, 324], [331, 332, 333, 334]\n",
    "     ],\n",
    "     [\n",
    "     [411, 412, 413, 414], [421, 422, 423, 424], [431, 432, 433, 434]\n",
    "     ]\n",
    "])"
   ]
  }
 ],
 "metadata": {
  "kernelspec": {
   "display_name": "Python 3",
   "language": "python",
   "name": "python3"
  },
  "language_info": {
   "codemirror_mode": {
    "name": "ipython",
    "version": 3
   },
   "file_extension": ".py",
   "mimetype": "text/x-python",
   "name": "python",
   "nbconvert_exporter": "python",
   "pygments_lexer": "ipython3",
   "version": "3.8.3"
  }
 },
 "nbformat": 4,
 "nbformat_minor": 4
}
