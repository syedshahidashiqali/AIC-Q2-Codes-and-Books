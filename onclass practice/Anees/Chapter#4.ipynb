{
 "cells": [
  {
   "cell_type": "markdown",
   "metadata": {},
   "source": [
    "## Chapter#4 [NumPy Basics: Arrays and Vectorized Computation]"
   ]
  },
  {
   "cell_type": "markdown",
   "metadata": {},
   "source": [
    "## package\n",
    "package bohot saari files ko 1 sat jama kardenge to usko hum package kehte hain"
   ]
  },
  {
   "cell_type": "raw",
   "metadata": {},
   "source": [
    "ndarray \n",
    "n dimensional yaani multi dimension tak jasakta hai"
   ]
  },
  {
   "cell_type": "raw",
   "metadata": {},
   "source": [
    "# 1)array-oriented arith‐metic\n",
    "> \n",
    "\n",
    "# 2)flexible broadcasting capabilities"
   ]
  },
  {
   "cell_type": "raw",
   "metadata": {},
   "source": [
    "pg 86, 87"
   ]
  },
  {
   "cell_type": "markdown",
   "metadata": {},
   "source": [
    "## Class#2"
   ]
  },
  {
   "cell_type": "raw",
   "metadata": {},
   "source": [
    " ndarray = np.array ([\n",
    "     [\n",
    "     [111, 112, 113, 114 ], [121, 122, 123, 124] , [131, 132, 133, 134]\n",
    "     ],\n",
    "     [\n",
    "     [211, 212, 213, 214], [221, 222, 223, 224], [231, 232, 233, 234]\n",
    "     ],\n",
    "     [\n",
    "     [311, 312, 313, 314], [321, 322, 323, 324], [331, 332, 333, 334]\n",
    "     ],\n",
    "     [\n",
    "     [411, 412, 413, 414], [421, 422, 423, 424], [431, 432, 433, 434]\n",
    "     ]\n",
    "])"
   ]
  },
  {
   "cell_type": "code",
   "execution_count": 4,
   "metadata": {},
   "outputs": [],
   "source": [
    "import numpy as np"
   ]
  },
  {
   "cell_type": "code",
   "execution_count": 9,
   "metadata": {},
   "outputs": [
    {
     "data": {
      "text/plain": [
       "array([ 1, 23, 34, 34,  4,  5,  5,  6,  3,  7, 34,  2,  1,  1,  5,  4,  2,\n",
       "        6])"
      ]
     },
     "execution_count": 9,
     "metadata": {},
     "output_type": "execute_result"
    }
   ],
   "source": [
    "arr1 = np.array([1,23,34,34,4,5,5,6,3,7,34,2,1,1,5,4,2,6])\n",
    "arr1"
   ]
  },
  {
   "cell_type": "code",
   "execution_count": 13,
   "metadata": {},
   "outputs": [
    {
     "data": {
      "text/plain": [
       "array([ 0, 13, 12, 11, 16,  8,  4, 15,  6, 14,  5,  7, 17,  9,  1, 10,  3,\n",
       "        2], dtype=int32)"
      ]
     },
     "execution_count": 13,
     "metadata": {},
     "output_type": "execute_result"
    }
   ],
   "source": [
    "# np.argsort()   >>> ye wo indices return karta hai jo is array ko sort kardega\n",
    "# arr1.argsort()\n",
    "np.argsort(arr1)"
   ]
  },
  {
   "cell_type": "code",
   "execution_count": 14,
   "metadata": {},
   "outputs": [
    {
     "data": {
      "text/plain": [
       "array([[ 1, 23, 34],\n",
       "       [34,  4,  5],\n",
       "       [ 5,  6,  3],\n",
       "       [ 7, 34,  2],\n",
       "       [ 1,  1,  5],\n",
       "       [ 4,  2,  6]])"
      ]
     },
     "execution_count": 14,
     "metadata": {},
     "output_type": "execute_result"
    }
   ],
   "source": [
    "arr2 = np.array([1,23,34,34,4,5,5,6,3,7,34,2,1,1,5,4,2,6]).reshape(6,3)\n",
    "arr2"
   ]
  },
  {
   "cell_type": "code",
   "execution_count": 21,
   "metadata": {},
   "outputs": [
    {
     "data": {
      "text/plain": [
       "array([[0, 1, 2],\n",
       "       [1, 2, 0],\n",
       "       [2, 0, 1],\n",
       "       [2, 0, 1],\n",
       "       [0, 1, 2],\n",
       "       [1, 0, 2]], dtype=int32)"
      ]
     },
     "execution_count": 21,
     "metadata": {},
     "output_type": "execute_result"
    }
   ],
   "source": [
    "# axis 1 pe sort karta hai means row wise dekh rha hai axis 0 col wise karega\n",
    "# np.argsort(arr2,axis=1)\n",
    "np.argsort(arr2)   # by default axis 1"
   ]
  },
  {
   "cell_type": "code",
   "execution_count": 22,
   "metadata": {},
   "outputs": [
    {
     "data": {
      "text/plain": [
       "array([[0, 4, 3],\n",
       "       [4, 5, 2],\n",
       "       [5, 1, 1],\n",
       "       [2, 2, 4],\n",
       "       [3, 0, 5],\n",
       "       [1, 3, 0]], dtype=int32)"
      ]
     },
     "execution_count": 22,
     "metadata": {},
     "output_type": "execute_result"
    }
   ],
   "source": [
    "np.argsort(arr2,axis=0)"
   ]
  },
  {
   "cell_type": "code",
   "execution_count": 23,
   "metadata": {},
   "outputs": [
    {
     "data": {
      "text/plain": [
       "array([[ 8,  2, -2],\n",
       "       [-4,  1,  7],\n",
       "       [ 6,  3,  9]])"
      ]
     },
     "execution_count": 23,
     "metadata": {},
     "output_type": "execute_result"
    }
   ],
   "source": [
    "arr = np.array([[ 8,  2, -2],[-4,  1,  7],[ 6,  3,  9]])\n",
    "arr"
   ]
  },
  {
   "cell_type": "code",
   "execution_count": 42,
   "metadata": {},
   "outputs": [
    {
     "data": {
      "text/plain": [
       "array([[2, 1, 0]], dtype=int32)"
      ]
     },
     "execution_count": 42,
     "metadata": {},
     "output_type": "execute_result"
    }
   ],
   "source": [
    "arr[:1].argsort()"
   ]
  },
  {
   "cell_type": "code",
   "execution_count": 44,
   "metadata": {},
   "outputs": [
    {
     "data": {
      "text/plain": [
       "array([[-4,  1,  7],\n",
       "       [ 8,  2, -2],\n",
       "       [ 6,  3,  9]])"
      ]
     },
     "execution_count": 44,
     "metadata": {},
     "output_type": "execute_result"
    }
   ],
   "source": [
    "arr[arr[:, 1].argsort()]"
   ]
  },
  {
   "cell_type": "code",
   "execution_count": 47,
   "metadata": {},
   "outputs": [
    {
     "data": {
      "text/plain": [
       "array([[[ 8,  2, -2],\n",
       "        [-4,  1,  7],\n",
       "        [ 6,  3,  9]]])"
      ]
     },
     "execution_count": 47,
     "metadata": {},
     "output_type": "execute_result"
    }
   ],
   "source": [
    "arr[arr[1:2,].argsort()]"
   ]
  },
  {
   "cell_type": "code",
   "execution_count": null,
   "metadata": {},
   "outputs": [],
   "source": []
  }
 ],
 "metadata": {
  "kernelspec": {
   "display_name": "Python 3",
   "language": "python",
   "name": "python3"
  }
 },
 "nbformat": 4,
 "nbformat_minor": 4
}
