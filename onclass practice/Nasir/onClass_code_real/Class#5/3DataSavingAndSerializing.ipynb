{
 "cells": [
  {
   "cell_type": "markdown",
   "metadata": {},
   "source": [
    "# Saving and Serialising a dataframe"
   ]
  },
  {
   "cell_type": "code",
   "execution_count": 1,
   "metadata": {},
   "outputs": [],
   "source": [
    "import numpy as np\n",
    "import pandas as pd"
   ]
  },
  {
   "cell_type": "code",
   "execution_count": 2,
   "metadata": {},
   "outputs": [
    {
     "data": {
      "text/html": [
       "<div>\n",
       "<style scoped>\n",
       "    .dataframe tbody tr th:only-of-type {\n",
       "        vertical-align: middle;\n",
       "    }\n",
       "\n",
       "    .dataframe tbody tr th {\n",
       "        vertical-align: top;\n",
       "    }\n",
       "\n",
       "    .dataframe thead th {\n",
       "        text-align: right;\n",
       "    }\n",
       "</style>\n",
       "<table border=\"1\" class=\"dataframe\">\n",
       "  <thead>\n",
       "    <tr style=\"text-align: right;\">\n",
       "      <th></th>\n",
       "      <th>A</th>\n",
       "      <th>B</th>\n",
       "      <th>C</th>\n",
       "      <th>D</th>\n",
       "    </tr>\n",
       "  </thead>\n",
       "  <tbody>\n",
       "    <tr>\n",
       "      <th>0</th>\n",
       "      <td>0.928150</td>\n",
       "      <td>0.481537</td>\n",
       "      <td>0.652907</td>\n",
       "      <td>0.333602</td>\n",
       "    </tr>\n",
       "    <tr>\n",
       "      <th>1</th>\n",
       "      <td>0.934688</td>\n",
       "      <td>0.010675</td>\n",
       "      <td>0.386517</td>\n",
       "      <td>0.518924</td>\n",
       "    </tr>\n",
       "    <tr>\n",
       "      <th>2</th>\n",
       "      <td>0.178277</td>\n",
       "      <td>0.364158</td>\n",
       "      <td>0.435528</td>\n",
       "      <td>0.517645</td>\n",
       "    </tr>\n",
       "    <tr>\n",
       "      <th>3</th>\n",
       "      <td>0.792251</td>\n",
       "      <td>0.744749</td>\n",
       "      <td>0.709547</td>\n",
       "      <td>0.874203</td>\n",
       "    </tr>\n",
       "    <tr>\n",
       "      <th>4</th>\n",
       "      <td>0.300547</td>\n",
       "      <td>0.582488</td>\n",
       "      <td>0.546538</td>\n",
       "      <td>0.131833</td>\n",
       "    </tr>\n",
       "  </tbody>\n",
       "</table>\n",
       "</div>"
      ],
      "text/plain": [
       "          A         B         C         D\n",
       "0  0.928150  0.481537  0.652907  0.333602\n",
       "1  0.934688  0.010675  0.386517  0.518924\n",
       "2  0.178277  0.364158  0.435528  0.517645\n",
       "3  0.792251  0.744749  0.709547  0.874203\n",
       "4  0.300547  0.582488  0.546538  0.131833"
      ]
     },
     "execution_count": 2,
     "metadata": {},
     "output_type": "execute_result"
    }
   ],
   "source": [
    "# Let's make a new dataframe and save it out using various formats\n",
    "\n",
    "df = pd.DataFrame(np.random.random(size=(100000, 4)), columns=[\"A\", \"B\", \"C\", \"D\"])\n",
    "\n",
    "df.head()"
   ]
  },
  {
   "cell_type": "code",
   "execution_count": 5,
   "metadata": {},
   "outputs": [],
   "source": [
    "# Writing data to a file\n",
    "# 4 decimal place tak round karenge or index skip karenge\n",
    "\n",
    "df.to_csv(\"save.csv\", index=False, float_format=\"%0.4f\")"
   ]
  },
  {
   "cell_type": "code",
   "execution_count": 6,
   "metadata": {},
   "outputs": [],
   "source": [
    "# saving to pkl format\n",
    "df.to_pickle(\"save.pkl\")"
   ]
  },
  {
   "cell_type": "code",
   "execution_count": 7,
   "metadata": {},
   "outputs": [],
   "source": [
    "# pip install tables\n",
    "# hdf jo hai wo hadoop format hota hai, big data mai use hota hai\n",
    "\n",
    "df.to_hdf(\"save.hdf\", key=\"data\", format=\"table\")"
   ]
  },
  {
   "cell_type": "code",
   "execution_count": null,
   "metadata": {},
   "outputs": [],
   "source": [
    "# !pip install feather-format"
   ]
  },
  {
   "cell_type": "code",
   "execution_count": null,
   "metadata": {},
   "outputs": [],
   "source": [
    "# !conda install feather-format -c conda-forge"
   ]
  },
  {
   "cell_type": "code",
   "execution_count": null,
   "metadata": {},
   "outputs": [],
   "source": [
    "# df.to_feather(\"save.fth\")"
   ]
  },
  {
   "cell_type": "code",
   "execution_count": 3,
   "metadata": {},
   "outputs": [],
   "source": [
    "# If you want to get the timings you can see in the video, you'll need this extension:\n",
    "# https://jupyter-contrib-nbextensions.readthedocs.io/en/latest/nbextensions/execute_time/readme.html"
   ]
  },
  {
   "cell_type": "markdown",
   "metadata": {},
   "source": [
    "Now this is a very fast test - its only numeric data. If we add strings and categorical data things can slow down a lot! Let's try this on mixed Astronaut data from kaggle: https://www.kaggle.com/nasa/astronaut-yearbook"
   ]
  },
  {
   "cell_type": "code",
   "execution_count": 13,
   "metadata": {},
   "outputs": [],
   "source": [
    "# df = pd.read_csv(\"astronauts.csv\")\n",
    "# df.head()"
   ]
  },
  {
   "cell_type": "code",
   "execution_count": 6,
   "metadata": {},
   "outputs": [],
   "source": [
    "df.to_csv(\"save.csv\", index=False, float_format=\"%0.4f\")"
   ]
  },
  {
   "cell_type": "code",
   "execution_count": 12,
   "metadata": {},
   "outputs": [],
   "source": [
    "# pd.read_csv(\"save.csv\")"
   ]
  },
  {
   "cell_type": "code",
   "execution_count": 8,
   "metadata": {},
   "outputs": [],
   "source": [
    "df.to_pickle(\"save.pkl\")"
   ]
  },
  {
   "cell_type": "code",
   "execution_count": 11,
   "metadata": {},
   "outputs": [],
   "source": [
    "# pd.read_pickle(\"save.pkl\")"
   ]
  },
  {
   "cell_type": "code",
   "execution_count": 4,
   "metadata": {},
   "outputs": [],
   "source": [
    "df.to_hdf(\"save.hdf\", key=\"data\", format=\"table\")"
   ]
  },
  {
   "cell_type": "code",
   "execution_count": 5,
   "metadata": {},
   "outputs": [
    {
     "data": {
      "text/html": [
       "<div>\n",
       "<style scoped>\n",
       "    .dataframe tbody tr th:only-of-type {\n",
       "        vertical-align: middle;\n",
       "    }\n",
       "\n",
       "    .dataframe tbody tr th {\n",
       "        vertical-align: top;\n",
       "    }\n",
       "\n",
       "    .dataframe thead th {\n",
       "        text-align: right;\n",
       "    }\n",
       "</style>\n",
       "<table border=\"1\" class=\"dataframe\">\n",
       "  <thead>\n",
       "    <tr style=\"text-align: right;\">\n",
       "      <th></th>\n",
       "      <th>A</th>\n",
       "      <th>B</th>\n",
       "      <th>C</th>\n",
       "      <th>D</th>\n",
       "    </tr>\n",
       "  </thead>\n",
       "  <tbody>\n",
       "    <tr>\n",
       "      <th>0</th>\n",
       "      <td>0.928150</td>\n",
       "      <td>0.481537</td>\n",
       "      <td>0.652907</td>\n",
       "      <td>0.333602</td>\n",
       "    </tr>\n",
       "    <tr>\n",
       "      <th>1</th>\n",
       "      <td>0.934688</td>\n",
       "      <td>0.010675</td>\n",
       "      <td>0.386517</td>\n",
       "      <td>0.518924</td>\n",
       "    </tr>\n",
       "    <tr>\n",
       "      <th>2</th>\n",
       "      <td>0.178277</td>\n",
       "      <td>0.364158</td>\n",
       "      <td>0.435528</td>\n",
       "      <td>0.517645</td>\n",
       "    </tr>\n",
       "    <tr>\n",
       "      <th>3</th>\n",
       "      <td>0.792251</td>\n",
       "      <td>0.744749</td>\n",
       "      <td>0.709547</td>\n",
       "      <td>0.874203</td>\n",
       "    </tr>\n",
       "    <tr>\n",
       "      <th>4</th>\n",
       "      <td>0.300547</td>\n",
       "      <td>0.582488</td>\n",
       "      <td>0.546538</td>\n",
       "      <td>0.131833</td>\n",
       "    </tr>\n",
       "    <tr>\n",
       "      <th>...</th>\n",
       "      <td>...</td>\n",
       "      <td>...</td>\n",
       "      <td>...</td>\n",
       "      <td>...</td>\n",
       "    </tr>\n",
       "    <tr>\n",
       "      <th>99995</th>\n",
       "      <td>0.477538</td>\n",
       "      <td>0.274994</td>\n",
       "      <td>0.699612</td>\n",
       "      <td>0.296594</td>\n",
       "    </tr>\n",
       "    <tr>\n",
       "      <th>99996</th>\n",
       "      <td>0.762881</td>\n",
       "      <td>0.231498</td>\n",
       "      <td>0.131880</td>\n",
       "      <td>0.955424</td>\n",
       "    </tr>\n",
       "    <tr>\n",
       "      <th>99997</th>\n",
       "      <td>0.729568</td>\n",
       "      <td>0.194363</td>\n",
       "      <td>0.814328</td>\n",
       "      <td>0.199783</td>\n",
       "    </tr>\n",
       "    <tr>\n",
       "      <th>99998</th>\n",
       "      <td>0.869640</td>\n",
       "      <td>0.723131</td>\n",
       "      <td>0.723032</td>\n",
       "      <td>0.554974</td>\n",
       "    </tr>\n",
       "    <tr>\n",
       "      <th>99999</th>\n",
       "      <td>0.106881</td>\n",
       "      <td>0.039687</td>\n",
       "      <td>0.267335</td>\n",
       "      <td>0.862814</td>\n",
       "    </tr>\n",
       "  </tbody>\n",
       "</table>\n",
       "<p>100000 rows × 4 columns</p>\n",
       "</div>"
      ],
      "text/plain": [
       "              A         B         C         D\n",
       "0      0.928150  0.481537  0.652907  0.333602\n",
       "1      0.934688  0.010675  0.386517  0.518924\n",
       "2      0.178277  0.364158  0.435528  0.517645\n",
       "3      0.792251  0.744749  0.709547  0.874203\n",
       "4      0.300547  0.582488  0.546538  0.131833\n",
       "...         ...       ...       ...       ...\n",
       "99995  0.477538  0.274994  0.699612  0.296594\n",
       "99996  0.762881  0.231498  0.131880  0.955424\n",
       "99997  0.729568  0.194363  0.814328  0.199783\n",
       "99998  0.869640  0.723131  0.723032  0.554974\n",
       "99999  0.106881  0.039687  0.267335  0.862814\n",
       "\n",
       "[100000 rows x 4 columns]"
      ]
     },
     "execution_count": 5,
     "metadata": {},
     "output_type": "execute_result"
    }
   ],
   "source": [
    "pd.read_hdf(\"save.hdf\")"
   ]
  },
  {
   "cell_type": "code",
   "execution_count": 8,
   "metadata": {},
   "outputs": [],
   "source": [
    "# df.to_feather(\"save.fth\")"
   ]
  },
  {
   "cell_type": "code",
   "execution_count": 9,
   "metadata": {},
   "outputs": [],
   "source": [
    "# pd.read_feather(\"save.fth\")"
   ]
  },
  {
   "cell_type": "code",
   "execution_count": 10,
   "metadata": {},
   "outputs": [
    {
     "name": "stdout",
     "output_type": "stream",
     "text": [
      " Volume in drive C has no label.\n",
      " Volume Serial Number is 8896-429E\n",
      "\n",
      " Directory of C:\\Users\\Syed Shahid Ali\\Desktop\\AI Q2\\AIC-Q2-Codes-and-Books\\onclass practice\\Nasir\\onClass_code_real\\Class#5\n",
      "\n",
      "02/02/2021  03:26 PM    <DIR>          .\n",
      "02/02/2021  03:26 PM    <DIR>          ..\n",
      "02/01/2021  10:45 PM    <DIR>          .ipynb_checkpoints\n",
      "02/01/2021  10:16 PM            14,840 1DataLoading.ipynb\n",
      "02/01/2021  10:44 PM            28,772 2DataInspecting.ipynb\n",
      "02/02/2021  03:26 PM            53,029 3DataSavingAndSerializing.ipynb\n",
      "01/27/2021  01:51 AM            81,951 astronauts.csv\n",
      "02/01/2021  07:31 PM            45,173 Class#5.ipynb\n",
      "01/27/2021  01:51 AM            11,328 heart.csv\n",
      "02/01/2021  07:23 PM    <DIR>          practiceResource\n",
      "02/02/2021  12:37 AM            87,030 save.csv\n",
      "02/02/2021  03:22 PM         4,130,767 save.hdf\n",
      "02/02/2021  12:41 AM            90,714 save.pkl\n",
      "               9 File(s)      4,543,604 bytes\n",
      "               4 Dir(s)  43,710,140,416 bytes free\n"
     ]
    }
   ],
   "source": [
    "%ls"
   ]
  },
  {
   "cell_type": "markdown",
   "metadata": {},
   "source": [
    "# Recap\n",
    "\n",
    "In terms of file size, HDF5 is the largest for this example. Everything elseis approximately equal. For small data sizes, often csv is the easiest as its human readable. HDF5 is great for <i>loading</i> in huge amounts of data quickly. Pickle is faster than CSV, but not human readable.\n",
    "\n",
    "Lots of options, don't get hung up on any of them. CSV and pickle are easy and for most cases work fine."
   ]
  }
 ],
 "metadata": {
  "kernelspec": {
   "display_name": "Python 3",
   "language": "python",
   "name": "python3"
  },
  "language_info": {
   "codemirror_mode": {
    "name": "ipython",
    "version": 3
   },
   "file_extension": ".py",
   "mimetype": "text/x-python",
   "name": "python",
   "nbconvert_exporter": "python",
   "pygments_lexer": "ipython3",
   "version": "3.8.3"
  }
 },
 "nbformat": 4,
 "nbformat_minor": 4
}
