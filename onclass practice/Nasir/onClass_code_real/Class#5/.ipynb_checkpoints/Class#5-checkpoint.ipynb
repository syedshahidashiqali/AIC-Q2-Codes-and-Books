{
 "cells": [
  {
   "cell_type": "code",
   "execution_count": 1,
   "metadata": {},
   "outputs": [],
   "source": [
    "import numpy as np\n",
    "import pandas as pd"
   ]
  },
  {
   "cell_type": "markdown",
   "metadata": {},
   "source": [
    "# Class5: 10th January, 2021, Sunday"
   ]
  },
  {
   "cell_type": "markdown",
   "metadata": {},
   "source": [
    "# Correlation and Covariance"
   ]
  },
  {
   "cell_type": "markdown",
   "metadata": {},
   "source": [
    "* data ke andar 2 ya multiple columns ke darmiyaan statistical relationship dhoondti hai, yanani 2 cols mai kitni dependency hai\n",
    "* or correlation mai dekhta hai ke 2 cols ke darmiyan kitna relationship hai, (positive, negative, neutral)\n",
    "```\n",
    "> 1 col barha 2oosra bhi barhega\n",
    "> 1 col barha 2ssra kam hoga\n",
    "```"
   ]
  },
  {
   "cell_type": "markdown",
   "metadata": {},
   "source": [
    "# What is Correlation?\n",
    "Variables within a dataset can be related for lots of reasons.\n",
    "\n",
    "For example:\n",
    "\n",
    "* One variable could cause or depend on the values of another variable.\n",
    "* One variable could be lightly associated with another variable.\n",
    "* Two variables could depend on a third unknown variable.\n",
    "\n",
    "It can be useful in data analysis and modeling to better understand the relationships between variables. `The statistical relationship between two variables is referred to as their correlation`.\n",
    "\n",
    "A correlation could be positive, meaning both variables move in the same direction, or negative, meaning that when one variable’s value increases, the other variables’ values decrease. Correlation can also be neutral or zero, meaning that the variables are unrelated.\n",
    "\n",
    "* **Positive Correlation**: both variables change in the same direction.\n",
    "* **Neutral Correlation**: No relationship in the change of the variables.\n",
    "* **Negative Correlation**: variables change in opposite directions."
   ]
  },
  {
   "cell_type": "markdown",
   "metadata": {},
   "source": [
    "## Test Dataset\n",
    "Before we look at correlation methods, let’s define a dataset we can use to test the methods.\n",
    "\n",
    "We will generate `1,000 samples of two two variables with a strong positive correlation`. The `first variable` will be random numbers drawn from a Gaussian distribution `with a mean of 100 and a standard deviation of 20`. The `second variable` will be values from the first variable with Gaussian noise added `with a mean of a 50 and a standard deviation of 10`.\n",
    "\n",
    "We will use the `randn()` function `to generate random Gaussian values with a mean of 0 and a standard deviation of 1`, then multiply the results by our own standard deviation and add the mean to shift the values into the preferred range.\n",
    "\n",
    "`The pseudorandom number generator is seeded to ensure that we get the same sample of numbers each time the code is run`."
   ]
  },
  {
   "cell_type": "code",
   "execution_count": 2,
   "metadata": {},
   "outputs": [
    {
     "name": "stdout",
     "output_type": "stream",
     "text": [
      "data1: mean=100.776 stdv=19.620\n",
      "data2: mean=151.050 stdv=22.358\n"
     ]
    },
    {
     "data": {
      "image/png": "[encoded data removed]",
      "text/plain": [
       "<Figure size 432x288 with 1 Axes>"
      ]
     },
     "metadata": {
      "needs_background": "light"
     },
     "output_type": "display_data"
    }
   ],
   "source": [
    "# generate related variables\n",
    "from numpy import mean\n",
    "from numpy import std\n",
    "from numpy.random import randn\n",
    "from numpy.random import seed\n",
    "from matplotlib import pyplot\n",
    "# seed random number generator\n",
    "seed(1)\n",
    "# prepare data\n",
    "data1 = 20 * randn(1000) + 100\n",
    "data2 = data1 + (10 * randn(1000) + 50)\n",
    "# summarize\n",
    "print('data1: mean=%.3f stdv=%.3f' % (mean(data1), std(data1)))\n",
    "print('data2: mean=%.3f stdv=%.3f' % (mean(data2), std(data2)))\n",
    "# plot\n",
    "pyplot.scatter(data1, data2)\n",
    "pyplot.show()"
   ]
  },
  {
   "cell_type": "markdown",
   "metadata": {},
   "source": [
    "# Covariance\n",
    "Variables can be related by a linear relationship. This is a relationship that is consistently additive across the two data samples.\n",
    "\n",
    "This relationship can be summarized between two variables, called the covariance. It is calculated as the average of the product between the values from each sample, where the values haven been centered (had their mean subtracted).\n",
    "\n",
    "The calculation of the sample covariance is as follows:\n",
    "\n",
    "`cov(X, Y) = (sum (x - mean(X)) * (y - mean(Y)) ) * 1/(n-1)`"
   ]
  },
  {
   "cell_type": "code",
   "execution_count": 2,
   "metadata": {},
   "outputs": [],
   "source": [
    "import pandas_datareader.data as web"
   ]
  },
  {
   "cell_type": "code",
   "execution_count": 3,
   "metadata": {},
   "outputs": [],
   "source": [
    "# dictionary comprehension\n",
    "\n",
    "all_data = {ticker: web.get_data_yahoo(ticker) for ticker in ['AAPL', 'IBM', 'MSFT', 'GOOG']}"
   ]
  },
  {
   "cell_type": "code",
   "execution_count": 6,
   "metadata": {},
   "outputs": [
    {
     "data": {
      "text/html": [
       "<div>\n",
       "<style scoped>\n",
       "    .dataframe tbody tr th:only-of-type {\n",
       "        vertical-align: middle;\n",
       "    }\n",
       "\n",
       "    .dataframe tbody tr th {\n",
       "        vertical-align: top;\n",
       "    }\n",
       "\n",
       "    .dataframe thead th {\n",
       "        text-align: right;\n",
       "    }\n",
       "</style>\n",
       "<table border=\"1\" class=\"dataframe\">\n",
       "  <thead>\n",
       "    <tr style=\"text-align: right;\">\n",
       "      <th></th>\n",
       "      <th>High</th>\n",
       "      <th>Low</th>\n",
       "      <th>Open</th>\n",
       "      <th>Close</th>\n",
       "      <th>Volume</th>\n",
       "      <th>Adj Close</th>\n",
       "    </tr>\n",
       "    <tr>\n",
       "      <th>Date</th>\n",
       "      <th></th>\n",
       "      <th></th>\n",
       "      <th></th>\n",
       "      <th></th>\n",
       "      <th></th>\n",
       "      <th></th>\n",
       "    </tr>\n",
       "  </thead>\n",
       "  <tbody>\n",
       "    <tr>\n",
       "      <th>2016-02-02</th>\n",
       "      <td>24.010000</td>\n",
       "      <td>23.570000</td>\n",
       "      <td>23.855000</td>\n",
       "      <td>23.620001</td>\n",
       "      <td>149428800.0</td>\n",
       "      <td>21.883259</td>\n",
       "    </tr>\n",
       "    <tr>\n",
       "      <th>2016-02-03</th>\n",
       "      <td>24.209999</td>\n",
       "      <td>23.520000</td>\n",
       "      <td>23.750000</td>\n",
       "      <td>24.087500</td>\n",
       "      <td>183857200.0</td>\n",
       "      <td>22.316381</td>\n",
       "    </tr>\n",
       "    <tr>\n",
       "      <th>2016-02-04</th>\n",
       "      <td>24.332500</td>\n",
       "      <td>23.797501</td>\n",
       "      <td>23.965000</td>\n",
       "      <td>24.150000</td>\n",
       "      <td>185886800.0</td>\n",
       "      <td>22.495693</td>\n",
       "    </tr>\n",
       "    <tr>\n",
       "      <th>2016-02-05</th>\n",
       "      <td>24.230000</td>\n",
       "      <td>23.422501</td>\n",
       "      <td>24.129999</td>\n",
       "      <td>23.504999</td>\n",
       "      <td>185672400.0</td>\n",
       "      <td>21.894878</td>\n",
       "    </tr>\n",
       "    <tr>\n",
       "      <th>2016-02-08</th>\n",
       "      <td>23.924999</td>\n",
       "      <td>23.260000</td>\n",
       "      <td>23.282499</td>\n",
       "      <td>23.752501</td>\n",
       "      <td>216085600.0</td>\n",
       "      <td>22.125422</td>\n",
       "    </tr>\n",
       "    <tr>\n",
       "      <th>...</th>\n",
       "      <td>...</td>\n",
       "      <td>...</td>\n",
       "      <td>...</td>\n",
       "      <td>...</td>\n",
       "      <td>...</td>\n",
       "      <td>...</td>\n",
       "    </tr>\n",
       "    <tr>\n",
       "      <th>2021-01-25</th>\n",
       "      <td>145.089996</td>\n",
       "      <td>136.539993</td>\n",
       "      <td>143.070007</td>\n",
       "      <td>142.919998</td>\n",
       "      <td>157611700.0</td>\n",
       "      <td>142.919998</td>\n",
       "    </tr>\n",
       "    <tr>\n",
       "      <th>2021-01-26</th>\n",
       "      <td>144.300003</td>\n",
       "      <td>141.369995</td>\n",
       "      <td>143.600006</td>\n",
       "      <td>143.160004</td>\n",
       "      <td>98390600.0</td>\n",
       "      <td>143.160004</td>\n",
       "    </tr>\n",
       "    <tr>\n",
       "      <th>2021-01-27</th>\n",
       "      <td>144.300003</td>\n",
       "      <td>140.410004</td>\n",
       "      <td>143.429993</td>\n",
       "      <td>142.059998</td>\n",
       "      <td>140843800.0</td>\n",
       "      <td>142.059998</td>\n",
       "    </tr>\n",
       "    <tr>\n",
       "      <th>2021-01-28</th>\n",
       "      <td>141.990005</td>\n",
       "      <td>136.699997</td>\n",
       "      <td>139.520004</td>\n",
       "      <td>137.089996</td>\n",
       "      <td>142621100.0</td>\n",
       "      <td>137.089996</td>\n",
       "    </tr>\n",
       "    <tr>\n",
       "      <th>2021-01-29</th>\n",
       "      <td>136.740005</td>\n",
       "      <td>130.210007</td>\n",
       "      <td>135.830002</td>\n",
       "      <td>131.960007</td>\n",
       "      <td>177180600.0</td>\n",
       "      <td>131.960007</td>\n",
       "    </tr>\n",
       "  </tbody>\n",
       "</table>\n",
       "<p>1258 rows × 6 columns</p>\n",
       "</div>"
      ],
      "text/plain": [
       "                  High         Low        Open       Close       Volume  \\\n",
       "Date                                                                      \n",
       "2016-02-02   24.010000   23.570000   23.855000   23.620001  149428800.0   \n",
       "2016-02-03   24.209999   23.520000   23.750000   24.087500  183857200.0   \n",
       "2016-02-04   24.332500   23.797501   23.965000   24.150000  185886800.0   \n",
       "2016-02-05   24.230000   23.422501   24.129999   23.504999  185672400.0   \n",
       "2016-02-08   23.924999   23.260000   23.282499   23.752501  216085600.0   \n",
       "...                ...         ...         ...         ...          ...   \n",
       "2021-01-25  145.089996  136.539993  143.070007  142.919998  157611700.0   \n",
       "2021-01-26  144.300003  141.369995  143.600006  143.160004   98390600.0   \n",
       "2021-01-27  144.300003  140.410004  143.429993  142.059998  140843800.0   \n",
       "2021-01-28  141.990005  136.699997  139.520004  137.089996  142621100.0   \n",
       "2021-01-29  136.740005  130.210007  135.830002  131.960007  177180600.0   \n",
       "\n",
       "             Adj Close  \n",
       "Date                    \n",
       "2016-02-02   21.883259  \n",
       "2016-02-03   22.316381  \n",
       "2016-02-04   22.495693  \n",
       "2016-02-05   21.894878  \n",
       "2016-02-08   22.125422  \n",
       "...                ...  \n",
       "2021-01-25  142.919998  \n",
       "2021-01-26  143.160004  \n",
       "2021-01-27  142.059998  \n",
       "2021-01-28  137.089996  \n",
       "2021-01-29  131.960007  \n",
       "\n",
       "[1258 rows x 6 columns]"
      ]
     },
     "execution_count": 6,
     "metadata": {},
     "output_type": "execute_result"
    }
   ],
   "source": [
    "all_data[\"AAPL\"]"
   ]
  },
  {
   "cell_type": "code",
   "execution_count": 8,
   "metadata": {},
   "outputs": [
    {
     "data": {
      "text/html": [
       "<div>\n",
       "<style scoped>\n",
       "    .dataframe tbody tr th:only-of-type {\n",
       "        vertical-align: middle;\n",
       "    }\n",
       "\n",
       "    .dataframe tbody tr th {\n",
       "        vertical-align: top;\n",
       "    }\n",
       "\n",
       "    .dataframe thead th {\n",
       "        text-align: right;\n",
       "    }\n",
       "</style>\n",
       "<table border=\"1\" class=\"dataframe\">\n",
       "  <thead>\n",
       "    <tr style=\"text-align: right;\">\n",
       "      <th></th>\n",
       "      <th>AAPL</th>\n",
       "      <th>IBM</th>\n",
       "      <th>MSFT</th>\n",
       "      <th>GOOG</th>\n",
       "    </tr>\n",
       "    <tr>\n",
       "      <th>Date</th>\n",
       "      <th></th>\n",
       "      <th></th>\n",
       "      <th></th>\n",
       "      <th></th>\n",
       "    </tr>\n",
       "  </thead>\n",
       "  <tbody>\n",
       "    <tr>\n",
       "      <th>2016-02-02</th>\n",
       "      <td>21.883259</td>\n",
       "      <td>98.893547</td>\n",
       "      <td>48.364185</td>\n",
       "      <td>764.650024</td>\n",
       "    </tr>\n",
       "    <tr>\n",
       "      <th>2016-02-03</th>\n",
       "      <td>22.316381</td>\n",
       "      <td>100.325394</td>\n",
       "      <td>47.597656</td>\n",
       "      <td>726.950012</td>\n",
       "    </tr>\n",
       "    <tr>\n",
       "      <th>2016-02-04</th>\n",
       "      <td>22.495693</td>\n",
       "      <td>102.682281</td>\n",
       "      <td>47.451664</td>\n",
       "      <td>708.010010</td>\n",
       "    </tr>\n",
       "    <tr>\n",
       "      <th>2016-02-05</th>\n",
       "      <td>21.894878</td>\n",
       "      <td>103.422333</td>\n",
       "      <td>45.772602</td>\n",
       "      <td>683.570007</td>\n",
       "    </tr>\n",
       "    <tr>\n",
       "      <th>2016-02-08</th>\n",
       "      <td>22.125422</td>\n",
       "      <td>103.186661</td>\n",
       "      <td>45.088188</td>\n",
       "      <td>682.739990</td>\n",
       "    </tr>\n",
       "    <tr>\n",
       "      <th>...</th>\n",
       "      <td>...</td>\n",
       "      <td>...</td>\n",
       "      <td>...</td>\n",
       "      <td>...</td>\n",
       "    </tr>\n",
       "    <tr>\n",
       "      <th>2021-01-25</th>\n",
       "      <td>142.919998</td>\n",
       "      <td>118.580002</td>\n",
       "      <td>229.529999</td>\n",
       "      <td>1899.400024</td>\n",
       "    </tr>\n",
       "    <tr>\n",
       "      <th>2021-01-26</th>\n",
       "      <td>143.160004</td>\n",
       "      <td>122.489998</td>\n",
       "      <td>232.330002</td>\n",
       "      <td>1917.239990</td>\n",
       "    </tr>\n",
       "    <tr>\n",
       "      <th>2021-01-27</th>\n",
       "      <td>142.059998</td>\n",
       "      <td>122.470001</td>\n",
       "      <td>232.899994</td>\n",
       "      <td>1830.790039</td>\n",
       "    </tr>\n",
       "    <tr>\n",
       "      <th>2021-01-28</th>\n",
       "      <td>137.089996</td>\n",
       "      <td>120.080002</td>\n",
       "      <td>238.929993</td>\n",
       "      <td>1863.109985</td>\n",
       "    </tr>\n",
       "    <tr>\n",
       "      <th>2021-01-29</th>\n",
       "      <td>131.960007</td>\n",
       "      <td>119.110001</td>\n",
       "      <td>231.960007</td>\n",
       "      <td>1835.739990</td>\n",
       "    </tr>\n",
       "  </tbody>\n",
       "</table>\n",
       "<p>1258 rows × 4 columns</p>\n",
       "</div>"
      ],
      "text/plain": [
       "                  AAPL         IBM        MSFT         GOOG\n",
       "Date                                                       \n",
       "2016-02-02   21.883259   98.893547   48.364185   764.650024\n",
       "2016-02-03   22.316381  100.325394   47.597656   726.950012\n",
       "2016-02-04   22.495693  102.682281   47.451664   708.010010\n",
       "2016-02-05   21.894878  103.422333   45.772602   683.570007\n",
       "2016-02-08   22.125422  103.186661   45.088188   682.739990\n",
       "...                ...         ...         ...          ...\n",
       "2021-01-25  142.919998  118.580002  229.529999  1899.400024\n",
       "2021-01-26  143.160004  122.489998  232.330002  1917.239990\n",
       "2021-01-27  142.059998  122.470001  232.899994  1830.790039\n",
       "2021-01-28  137.089996  120.080002  238.929993  1863.109985\n",
       "2021-01-29  131.960007  119.110001  231.960007  1835.739990\n",
       "\n",
       "[1258 rows x 4 columns]"
      ]
     },
     "execution_count": 8,
     "metadata": {},
     "output_type": "execute_result"
    }
   ],
   "source": [
    "# mujhe sirf \"Adj Close\" chahiye\n",
    "\n",
    "price = pd.DataFrame({ ticker: data[\"Adj Close\"] for (ticker, data) in all_data.items() })\n",
    "price"
   ]
  },
  {
   "cell_type": "code",
   "execution_count": 10,
   "metadata": {},
   "outputs": [
    {
     "data": {
      "text/html": [
       "<div>\n",
       "<style scoped>\n",
       "    .dataframe tbody tr th:only-of-type {\n",
       "        vertical-align: middle;\n",
       "    }\n",
       "\n",
       "    .dataframe tbody tr th {\n",
       "        vertical-align: top;\n",
       "    }\n",
       "\n",
       "    .dataframe thead th {\n",
       "        text-align: right;\n",
       "    }\n",
       "</style>\n",
       "<table border=\"1\" class=\"dataframe\">\n",
       "  <thead>\n",
       "    <tr style=\"text-align: right;\">\n",
       "      <th></th>\n",
       "      <th>AAPL</th>\n",
       "      <th>IBM</th>\n",
       "      <th>MSFT</th>\n",
       "      <th>GOOG</th>\n",
       "    </tr>\n",
       "    <tr>\n",
       "      <th>Date</th>\n",
       "      <th></th>\n",
       "      <th></th>\n",
       "      <th></th>\n",
       "      <th></th>\n",
       "    </tr>\n",
       "  </thead>\n",
       "  <tbody>\n",
       "    <tr>\n",
       "      <th>2016-02-02</th>\n",
       "      <td>149428800.0</td>\n",
       "      <td>3287300.0</td>\n",
       "      <td>56313800.0</td>\n",
       "      <td>6348100</td>\n",
       "    </tr>\n",
       "    <tr>\n",
       "      <th>2016-02-03</th>\n",
       "      <td>183857200.0</td>\n",
       "      <td>6223500.0</td>\n",
       "      <td>57559800.0</td>\n",
       "      <td>6171000</td>\n",
       "    </tr>\n",
       "    <tr>\n",
       "      <th>2016-02-04</th>\n",
       "      <td>185886800.0</td>\n",
       "      <td>5266500.0</td>\n",
       "      <td>46987100.0</td>\n",
       "      <td>5168700</td>\n",
       "    </tr>\n",
       "    <tr>\n",
       "      <th>2016-02-05</th>\n",
       "      <td>185672400.0</td>\n",
       "      <td>7177700.0</td>\n",
       "      <td>62009000.0</td>\n",
       "      <td>5105700</td>\n",
       "    </tr>\n",
       "    <tr>\n",
       "      <th>2016-02-08</th>\n",
       "      <td>216085600.0</td>\n",
       "      <td>7364000.0</td>\n",
       "      <td>59290500.0</td>\n",
       "      <td>4247400</td>\n",
       "    </tr>\n",
       "    <tr>\n",
       "      <th>...</th>\n",
       "      <td>...</td>\n",
       "      <td>...</td>\n",
       "      <td>...</td>\n",
       "      <td>...</td>\n",
       "    </tr>\n",
       "    <tr>\n",
       "      <th>2021-01-25</th>\n",
       "      <td>157611700.0</td>\n",
       "      <td>13686400.0</td>\n",
       "      <td>33152100.0</td>\n",
       "      <td>1927300</td>\n",
       "    </tr>\n",
       "    <tr>\n",
       "      <th>2021-01-26</th>\n",
       "      <td>98390600.0</td>\n",
       "      <td>10694700.0</td>\n",
       "      <td>49169600.0</td>\n",
       "      <td>1313100</td>\n",
       "    </tr>\n",
       "    <tr>\n",
       "      <th>2021-01-27</th>\n",
       "      <td>140843800.0</td>\n",
       "      <td>12146500.0</td>\n",
       "      <td>69870600.0</td>\n",
       "      <td>2748300</td>\n",
       "    </tr>\n",
       "    <tr>\n",
       "      <th>2021-01-28</th>\n",
       "      <td>142621100.0</td>\n",
       "      <td>8084100.0</td>\n",
       "      <td>49111200.0</td>\n",
       "      <td>1773100</td>\n",
       "    </tr>\n",
       "    <tr>\n",
       "      <th>2021-01-29</th>\n",
       "      <td>177180600.0</td>\n",
       "      <td>11772300.0</td>\n",
       "      <td>42468900.0</td>\n",
       "      <td>1611400</td>\n",
       "    </tr>\n",
       "  </tbody>\n",
       "</table>\n",
       "<p>1258 rows × 4 columns</p>\n",
       "</div>"
      ],
      "text/plain": [
       "                   AAPL         IBM        MSFT     GOOG\n",
       "Date                                                    \n",
       "2016-02-02  149428800.0   3287300.0  56313800.0  6348100\n",
       "2016-02-03  183857200.0   6223500.0  57559800.0  6171000\n",
       "2016-02-04  185886800.0   5266500.0  46987100.0  5168700\n",
       "2016-02-05  185672400.0   7177700.0  62009000.0  5105700\n",
       "2016-02-08  216085600.0   7364000.0  59290500.0  4247400\n",
       "...                 ...         ...         ...      ...\n",
       "2021-01-25  157611700.0  13686400.0  33152100.0  1927300\n",
       "2021-01-26   98390600.0  10694700.0  49169600.0  1313100\n",
       "2021-01-27  140843800.0  12146500.0  69870600.0  2748300\n",
       "2021-01-28  142621100.0   8084100.0  49111200.0  1773100\n",
       "2021-01-29  177180600.0  11772300.0  42468900.0  1611400\n",
       "\n",
       "[1258 rows x 4 columns]"
      ]
     },
     "execution_count": 10,
     "metadata": {},
     "output_type": "execute_result"
    }
   ],
   "source": [
    "# \"Volume\" uthana hai\n",
    "volume = pd.DataFrame({ ticker: data[\"Volume\"] for (ticker, data) in all_data.items() })\n",
    "volume"
   ]
  },
  {
   "cell_type": "code",
   "execution_count": 12,
   "metadata": {},
   "outputs": [],
   "source": [
    "# price par percentage change maloom kiya hai\n",
    "returns = price.pct_change()"
   ]
  },
  {
   "cell_type": "code",
   "execution_count": 13,
   "metadata": {},
   "outputs": [
    {
     "data": {
      "text/html": [
       "<div>\n",
       "<style scoped>\n",
       "    .dataframe tbody tr th:only-of-type {\n",
       "        vertical-align: middle;\n",
       "    }\n",
       "\n",
       "    .dataframe tbody tr th {\n",
       "        vertical-align: top;\n",
       "    }\n",
       "\n",
       "    .dataframe thead th {\n",
       "        text-align: right;\n",
       "    }\n",
       "</style>\n",
       "<table border=\"1\" class=\"dataframe\">\n",
       "  <thead>\n",
       "    <tr style=\"text-align: right;\">\n",
       "      <th></th>\n",
       "      <th>AAPL</th>\n",
       "      <th>IBM</th>\n",
       "      <th>MSFT</th>\n",
       "      <th>GOOG</th>\n",
       "    </tr>\n",
       "    <tr>\n",
       "      <th>Date</th>\n",
       "      <th></th>\n",
       "      <th></th>\n",
       "      <th></th>\n",
       "      <th></th>\n",
       "    </tr>\n",
       "  </thead>\n",
       "  <tbody>\n",
       "    <tr>\n",
       "      <th>2021-01-25</th>\n",
       "      <td>0.027684</td>\n",
       "      <td>-0.000253</td>\n",
       "      <td>0.015844</td>\n",
       "      <td>-0.000868</td>\n",
       "    </tr>\n",
       "    <tr>\n",
       "      <th>2021-01-26</th>\n",
       "      <td>0.001679</td>\n",
       "      <td>0.032973</td>\n",
       "      <td>0.012199</td>\n",
       "      <td>0.009392</td>\n",
       "    </tr>\n",
       "    <tr>\n",
       "      <th>2021-01-27</th>\n",
       "      <td>-0.007684</td>\n",
       "      <td>-0.000163</td>\n",
       "      <td>0.002453</td>\n",
       "      <td>-0.045091</td>\n",
       "    </tr>\n",
       "    <tr>\n",
       "      <th>2021-01-28</th>\n",
       "      <td>-0.034985</td>\n",
       "      <td>-0.019515</td>\n",
       "      <td>0.025891</td>\n",
       "      <td>0.017654</td>\n",
       "    </tr>\n",
       "    <tr>\n",
       "      <th>2021-01-29</th>\n",
       "      <td>-0.037421</td>\n",
       "      <td>-0.008078</td>\n",
       "      <td>-0.029172</td>\n",
       "      <td>-0.014690</td>\n",
       "    </tr>\n",
       "  </tbody>\n",
       "</table>\n",
       "</div>"
      ],
      "text/plain": [
       "                AAPL       IBM      MSFT      GOOG\n",
       "Date                                              \n",
       "2021-01-25  0.027684 -0.000253  0.015844 -0.000868\n",
       "2021-01-26  0.001679  0.032973  0.012199  0.009392\n",
       "2021-01-27 -0.007684 -0.000163  0.002453 -0.045091\n",
       "2021-01-28 -0.034985 -0.019515  0.025891  0.017654\n",
       "2021-01-29 -0.037421 -0.008078 -0.029172 -0.014690"
      ]
     },
     "execution_count": 13,
     "metadata": {},
     "output_type": "execute_result"
    }
   ],
   "source": [
    "# last 5 rows\n",
    "returns.tail()"
   ]
  },
  {
   "cell_type": "code",
   "execution_count": 14,
   "metadata": {},
   "outputs": [
    {
     "data": {
      "text/plain": [
       "0.5373272750482309"
      ]
     },
     "execution_count": 14,
     "metadata": {},
     "output_type": "execute_result"
    }
   ],
   "source": [
    "# MSF ka correlation nikaalo IBM ke saath]\n",
    "returns[\"MSFT\"].corr(returns[\"IBM\"])"
   ]
  },
  {
   "cell_type": "code",
   "execution_count": 15,
   "metadata": {},
   "outputs": [
    {
     "data": {
      "text/plain": [
       "0.00015385328767190056"
      ]
     },
     "execution_count": 15,
     "metadata": {},
     "output_type": "execute_result"
    }
   ],
   "source": [
    "returns[\"MSFT\"].cov(returns[\"IBM\"])"
   ]
  },
  {
   "cell_type": "markdown",
   "metadata": {},
   "source": [
    "DataFrame’s corr and cov methods, on the other hand, return a full correlation or\n",
    "covariance matrix as a DataFrame, respectively:"
   ]
  },
  {
   "cell_type": "code",
   "execution_count": 18,
   "metadata": {},
   "outputs": [
    {
     "data": {
      "text/html": [
       "<div>\n",
       "<style scoped>\n",
       "    .dataframe tbody tr th:only-of-type {\n",
       "        vertical-align: middle;\n",
       "    }\n",
       "\n",
       "    .dataframe tbody tr th {\n",
       "        vertical-align: top;\n",
       "    }\n",
       "\n",
       "    .dataframe thead th {\n",
       "        text-align: right;\n",
       "    }\n",
       "</style>\n",
       "<table border=\"1\" class=\"dataframe\">\n",
       "  <thead>\n",
       "    <tr style=\"text-align: right;\">\n",
       "      <th></th>\n",
       "      <th>AAPL</th>\n",
       "      <th>IBM</th>\n",
       "      <th>MSFT</th>\n",
       "      <th>GOOG</th>\n",
       "    </tr>\n",
       "  </thead>\n",
       "  <tbody>\n",
       "    <tr>\n",
       "      <th>AAPL</th>\n",
       "      <td>1.000000</td>\n",
       "      <td>0.453328</td>\n",
       "      <td>0.709132</td>\n",
       "      <td>0.653103</td>\n",
       "    </tr>\n",
       "    <tr>\n",
       "      <th>IBM</th>\n",
       "      <td>0.453328</td>\n",
       "      <td>1.000000</td>\n",
       "      <td>0.537327</td>\n",
       "      <td>0.502409</td>\n",
       "    </tr>\n",
       "    <tr>\n",
       "      <th>MSFT</th>\n",
       "      <td>0.709132</td>\n",
       "      <td>0.537327</td>\n",
       "      <td>1.000000</td>\n",
       "      <td>0.780956</td>\n",
       "    </tr>\n",
       "    <tr>\n",
       "      <th>GOOG</th>\n",
       "      <td>0.653103</td>\n",
       "      <td>0.502409</td>\n",
       "      <td>0.780956</td>\n",
       "      <td>1.000000</td>\n",
       "    </tr>\n",
       "  </tbody>\n",
       "</table>\n",
       "</div>"
      ],
      "text/plain": [
       "          AAPL       IBM      MSFT      GOOG\n",
       "AAPL  1.000000  0.453328  0.709132  0.653103\n",
       "IBM   0.453328  1.000000  0.537327  0.502409\n",
       "MSFT  0.709132  0.537327  1.000000  0.780956\n",
       "GOOG  0.653103  0.502409  0.780956  1.000000"
      ]
     },
     "execution_count": 18,
     "metadata": {},
     "output_type": "execute_result"
    }
   ],
   "source": [
    "# poore dataframe ka corelation and covariance nikaal rha hun\n",
    "returns.corr()\n",
    "# AAPL ka AAPL ke saath qk dataset 1 hee hai to 100% correlated hai"
   ]
  },
  {
   "cell_type": "markdown",
   "metadata": {},
   "source": [
    "Using DataFrame’s corrwith method, you can compute pairwise correlations between a DataFrame’s columns or rows with another Series or DataFrame. Passing a Series returns a Series with the correlation value computed for each column:"
   ]
  },
  {
   "cell_type": "code",
   "execution_count": 19,
   "metadata": {},
   "outputs": [
    {
     "data": {
      "text/plain": [
       "AAPL    0.453328\n",
       "IBM     1.000000\n",
       "MSFT    0.537327\n",
       "GOOG    0.502409\n",
       "dtype: float64"
      ]
     },
     "execution_count": 19,
     "metadata": {},
     "output_type": "execute_result"
    }
   ],
   "source": [
    "returns.corrwith(returns.IBM)"
   ]
  },
  {
   "cell_type": "markdown",
   "metadata": {},
   "source": [
    "# Data Loading, Storage, and File Formats"
   ]
  },
  {
   "cell_type": "code",
   "execution_count": 20,
   "metadata": {},
   "outputs": [],
   "source": [
    "# loading storage and file format notebooks are added in the practice resource folder\n",
    "# data is available in data folder"
   ]
  },
  {
   "cell_type": "markdown",
   "metadata": {},
   "source": [
    "# JSON Data\n",
    "\n",
    "\n",
    "JSON (short for JavaScript Object Notation) has become one of the standard formats\n",
    "for sending data by HTTP request between web browsers and other applications. It is\n",
    "a much more free-form data format than a tabular text form like CSV. Here is an\n",
    "example:\n"
   ]
  },
  {
   "cell_type": "code",
   "execution_count": 2,
   "metadata": {},
   "outputs": [],
   "source": [
    "obj = \"\"\"\n",
    "        {\n",
    "        \n",
    "        \"name\"       :\"Wes\",\n",
    "        \"places_lived\": [\"United States\", \"Spain\", \"Germany\"],\n",
    "        \"pet\"         : null,\n",
    "        \"siblings\"    : [{\"name\":\"Scott\", \n",
    "                          \"age\": 30, \n",
    "                          \"pets\": [\"Zeus\", \"Zuko\"]},\n",
    "                         \n",
    "                         {\"name\"         : \"Katie\", \n",
    "                          \"age\"         : 38,                          \n",
    "                          \"pets\"        : [\"Sixes\", \"Stache\", \"Cisco\"]\n",
    "                         }]\n",
    "}\n",
    "\"\"\""
   ]
  },
  {
   "cell_type": "code",
   "execution_count": 3,
   "metadata": {},
   "outputs": [
    {
     "data": {
      "text/plain": [
       "'\\n        {\\n        \\n        \"name\"       :\"Wes\",\\n        \"places_lived\": [\"United States\", \"Spain\", \"Germany\"],\\n        \"pet\"         : null,\\n        \"siblings\"    : [{\"name\":\"Scott\", \\n                          \"age\": 30, \\n                          \"pets\": [\"Zeus\", \"Zuko\"]},\\n                         \\n                         {\"name\"         : \"Katie\", \\n                          \"age\"         : 38,                          \\n                          \"pets\"        : [\"Sixes\", \"Stache\", \"Cisco\"]\\n                         }]\\n}\\n'"
      ]
     },
     "execution_count": 3,
     "metadata": {},
     "output_type": "execute_result"
    }
   ],
   "source": [
    "obj"
   ]
  },
  {
   "cell_type": "code",
   "execution_count": 4,
   "metadata": {},
   "outputs": [],
   "source": [
    "import json"
   ]
  },
  {
   "cell_type": "code",
   "execution_count": 5,
   "metadata": {},
   "outputs": [
    {
     "data": {
      "text/plain": [
       "{'name': 'Wes',\n",
       " 'places_lived': ['United States', 'Spain', 'Germany'],\n",
       " 'pet': None,\n",
       " 'siblings': [{'name': 'Scott', 'age': 30, 'pets': ['Zeus', 'Zuko']},\n",
       "  {'name': 'Katie', 'age': 38, 'pets': ['Sixes', 'Stache', 'Cisco']}]}"
      ]
     },
     "execution_count": 5,
     "metadata": {},
     "output_type": "execute_result"
    }
   ],
   "source": [
    "result = json.loads(obj)\n",
    "result"
   ]
  },
  {
   "cell_type": "code",
   "execution_count": 6,
   "metadata": {},
   "outputs": [],
   "source": [
    "asjson = json.dumps(result)"
   ]
  },
  {
   "cell_type": "code",
   "execution_count": 7,
   "metadata": {},
   "outputs": [
    {
     "data": {
      "text/plain": [
       "'{\"name\": \"Wes\", \"places_lived\": [\"United States\", \"Spain\", \"Germany\"], \"pet\": null, \"siblings\": [{\"name\": \"Scott\", \"age\": 30, \"pets\": [\"Zeus\", \"Zuko\"]}, {\"name\": \"Katie\", \"age\": 38, \"pets\": [\"Sixes\", \"Stache\", \"Cisco\"]}]}'"
      ]
     },
     "execution_count": 7,
     "metadata": {},
     "output_type": "execute_result"
    }
   ],
   "source": [
    "asjson"
   ]
  },
  {
   "cell_type": "code",
   "execution_count": 8,
   "metadata": {},
   "outputs": [
    {
     "data": {
      "text/plain": [
       "str"
      ]
     },
     "execution_count": 8,
     "metadata": {},
     "output_type": "execute_result"
    }
   ],
   "source": [
    "type(asjson)"
   ]
  },
  {
   "cell_type": "code",
   "execution_count": 9,
   "metadata": {},
   "outputs": [
    {
     "data": {
      "text/html": [
       "<div>\n",
       "<style scoped>\n",
       "    .dataframe tbody tr th:only-of-type {\n",
       "        vertical-align: middle;\n",
       "    }\n",
       "\n",
       "    .dataframe tbody tr th {\n",
       "        vertical-align: top;\n",
       "    }\n",
       "\n",
       "    .dataframe thead th {\n",
       "        text-align: right;\n",
       "    }\n",
       "</style>\n",
       "<table border=\"1\" class=\"dataframe\">\n",
       "  <thead>\n",
       "    <tr style=\"text-align: right;\">\n",
       "      <th></th>\n",
       "      <th>name</th>\n",
       "      <th>age</th>\n",
       "    </tr>\n",
       "  </thead>\n",
       "  <tbody>\n",
       "    <tr>\n",
       "      <th>0</th>\n",
       "      <td>Scott</td>\n",
       "      <td>30</td>\n",
       "    </tr>\n",
       "    <tr>\n",
       "      <th>1</th>\n",
       "      <td>Katie</td>\n",
       "      <td>38</td>\n",
       "    </tr>\n",
       "  </tbody>\n",
       "</table>\n",
       "</div>"
      ],
      "text/plain": [
       "    name  age\n",
       "0  Scott   30\n",
       "1  Katie   38"
      ]
     },
     "execution_count": 9,
     "metadata": {},
     "output_type": "execute_result"
    }
   ],
   "source": [
    "siblings = pd.DataFrame(result['siblings'], columns=['name', 'age'])\n",
    "siblings"
   ]
  },
  {
   "cell_type": "code",
   "execution_count": 10,
   "metadata": {},
   "outputs": [
    {
     "ename": "SyntaxError",
     "evalue": "invalid syntax (<ipython-input-10-aa72367bd2d3>, line 1)",
     "output_type": "error",
     "traceback": [
      "\u001b[1;36m  File \u001b[1;32m\"<ipython-input-10-aa72367bd2d3>\"\u001b[1;36m, line \u001b[1;32m1\u001b[0m\n\u001b[1;33m    Interacting with Web APIs\u001b[0m\n\u001b[1;37m                ^\u001b[0m\n\u001b[1;31mSyntaxError\u001b[0m\u001b[1;31m:\u001b[0m invalid syntax\n"
     ]
    }
   ],
   "source": [
    "Interacting with Web APIs"
   ]
  },
  {
   "cell_type": "code",
   "execution_count": 11,
   "metadata": {},
   "outputs": [],
   "source": [
    "import requests"
   ]
  },
  {
   "cell_type": "code",
   "execution_count": 12,
   "metadata": {},
   "outputs": [],
   "source": [
    "url = 'https://api.github.com/repos/pandas-dev/pandas/issues'"
   ]
  },
  {
   "cell_type": "code",
   "execution_count": 14,
   "metadata": {},
   "outputs": [],
   "source": [
    "# as I dont have internet right now\n",
    "\n",
    "# resp = requests.get(url)\n",
    "# resp"
   ]
  },
  {
   "cell_type": "code",
   "execution_count": 17,
   "metadata": {},
   "outputs": [],
   "source": [
    "# data = resp.json()"
   ]
  },
  {
   "cell_type": "code",
   "execution_count": 18,
   "metadata": {},
   "outputs": [],
   "source": [
    "# len(data)"
   ]
  },
  {
   "cell_type": "code",
   "execution_count": 19,
   "metadata": {},
   "outputs": [],
   "source": [
    "# issues = pd.DataFrame(data, columns=['number', 'title', 'labels', 'state'])\n",
    "# issues"
   ]
  }
 ],
 "metadata": {
  "kernelspec": {
   "display_name": "Python 3",
   "language": "python",
   "name": "python3"
  },
  "language_info": {
   "codemirror_mode": {
    "name": "ipython",
    "version": 3
   },
   "file_extension": ".py",
   "mimetype": "text/x-python",
   "name": "python",
   "nbconvert_exporter": "python",
   "pygments_lexer": "ipython3",
   "version": "3.8.3"
  }
 },
 "nbformat": 4,
 "nbformat_minor": 4
}
