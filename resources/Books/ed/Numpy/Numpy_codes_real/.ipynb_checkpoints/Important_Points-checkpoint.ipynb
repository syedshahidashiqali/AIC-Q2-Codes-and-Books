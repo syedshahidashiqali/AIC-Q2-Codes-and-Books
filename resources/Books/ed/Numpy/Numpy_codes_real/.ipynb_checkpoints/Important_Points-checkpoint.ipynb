{
 "cells": [
  {
   "cell_type": "code",
   "execution_count": 2,
   "metadata": {},
   "outputs": [],
   "source": [
    "import numpy as np"
   ]
  },
  {
   "cell_type": "markdown",
   "metadata": {},
   "source": [
    "# `Methods`\n",
    "* **asarray()**  convert input to an ndarray\n",
    "* **eye(N), identity(N)** create N x N square identity matrix(1s on the diagonal and 0s elsewhere)\n",
    "* **np.subtract(arr1,arr2)** `arr1 - arr2`\n",
    "* **np.power(arr1,arr2)**  `arr1 ** arr2`\n",
    "* **np.sum(arr, axis=`optional`)** `zero-length arrays have sum 0`\n",
    "* **np.mean(arr, axis=\"`optional`)** `zero-length arrays have Nan mean`\n",
    "* **arr.any()** `also work with non-boolean arrays where non-zero elements are equal to 1`\n",
    "* **arr.all()** `also work with non-boolean arrays where non-zero elements are equal to 1`\n",
    "* **arr.sort(axis)** `in-place sort, axis will be in nummber directly not axis keyword required`\n",
    "* **np.sort()** `np.sort returns a sorted copy of an array instead of modifying the array in-place.`\n",
    "* **np.in1d()** `Compute a boolean array indicating whether each element of x is contained in y`\n",
    "```\n",
    "values = np.array([6, 0, 0, 3, 2, 5, 6])\n",
    "np.in1d(values, [2, 3, 6])\n",
    "array([ True, False, False, True, True, False, True], dtype=bool)\n",
    "```\n",
    "\n",
    "* **np.unique(arr)** `Compute the sorted, unique elements in arr`\n",
    "* **np.intersect1d(arr1,arr2)** `Compute the sorted, common elements in arr1 and arr2`\n",
    "* **np.union1d(arr1,arr2)** `Compute the sorted union of elements`\n",
    "* **setdiff1d(arr1,arr2)** `Set difference, elements in arr1 that are not in arr2`\n",
    "* **setxor1d(arr1,arr2)** `Set symmetric differences; elements that are in either of the arrays, but not both`\n",
    "* **np.save(\"fileName.npy\", arr)** `Arrays are saved by default in an uncompressed raw binary format with file extension .npy:`\n",
    "```\n",
    "arr = np.arange(10)\n",
    "np.save('abc.npy', arr)\n",
    "```\n",
    "\n",
    "* **np.savez(fileName, arr1,arr1)** `You save multiple arrays in an uncompressed archive using np.savez and passing the arrays as keyword arguments:`\n",
    "```\n",
    "np.savez('array_archive.npz', a=arr, b=arr)\n",
    "```\n",
    "\n",
    "* **np.load(fileName)** `When loading an .npz file, you get back a dict-like object that loads the individual arrays lazily:`\n",
    "```\n",
    "arch = np.load('array_archive.npz')\n",
    "arch['b']\n",
    "array([0, 1, 2, 3, 4, 5, 6, 7, 8, 9])\n",
    "```\n",
    "\n",
    "* **np.savez_compressed(fileName.npz, arr1,arr2)** `If your data compresses well, you may wish to use numpy.savez_compressed instead:`\n",
    "```\n",
    "np.savez_compressed('arrays_compressed.npz', a=arr, b=arr)\n",
    "```\n",
    "\n",
    "* **np.dot(arr1,arr2)**  `@ works as infix operator>>>`  **arr1 @ arr2** `A matrix product between a two-dimensional array and a suitably sized onedimensional array results in a one-dimensional array:`\n",
    "```\n",
    "np.dot(x, np.ones(3))\n",
    "array([ 6., 15.])`\n",
    "```\n",
    "* **The diag(arr,K)** `function is used to extract a diagonal or construct a diagonal array.`\n",
    "* Return the diagonal (or off-diagonal) elements of a square matrix as a 1D array, \n",
    "* or convert a 1D array into a square matrix with zeros on the off-diagonal\n",
    "* `K` is diagonal and is `optional parameter`. `The default is 0`. Use `k>0 for diagonals above the main diagonal`, and `k<0 for diagonals below the main diagonal`\n",
    "* **np.trace()** `Compute the sum of the diagonal elements\n",
    "\n",
    "* **np.ravel(arr, F/C)**  `ravel does not produce a copy of`\n",
    "* **np.flatten(arr, F/C)** `always returns a copy of the data`\n",
    "\n",
    "* **np.conconcate((arr1,arr2), axis=0)**    |||| **np.vstack((arr1,arr2))**  |||| **np.row_stack((arr1,arr2))**  `row wise stack`\n",
    "* **np.conconcate((arr1,arr2), axis=1)**    |||| **np.hstack((arr1,arr2))**  |||| **np.column_stack((arr1,arr2))**  `columns wise stack`\n",
    "* **np.hsplit((arr, tukre))** `column wise split karega`\n",
    "* **np.vsplit((arr, tukre))** `row wise split karega`\n",
    "\n",
    "* **arr.repeat(times)** `repeat replicates each element in an array some number of times, producing a larger array:`\n",
    "```\n",
    "arr\n",
    "array([0, 1, 2])\n",
    "arr.repeat(3)\n",
    "array([0, 0, 0, 1, 1, 1, 2, 2, 2])\n",
    "```\n",
    "* `By default, if you pass an integer, each element will be repeated that number of times. If you pass an array of integers, each element can be repeated a different number of times:`\n",
    "```\n",
    "arr.repeat([2, 3, 4])\n",
    "array([0, 0, 1, 1, 1, 2, 2, 2, 2])\n",
    "```\n",
    "\n",
    "* `Multidimensional arrays can have their elements repeated along a particular axis.`\n",
    "```\n",
    "arr = np.random.randn(2, 2)\n",
    "arr\n",
    "array([[-2.0016, -0.3718],\n",
    "        [ 1.669 , -0.4386]])\n",
    "arr.repeat(2, axis=0)\n",
    "array([[-2.0016, -0.3718],\n",
    "        [-2.0016, -0.3718],\n",
    "        [ 1.669 , -0.4386],\n",
    "        [ 1.669 , -0.4386]])\n",
    "```\n",
    "* `Note that if no axis is passed, the array will be flattened first, which is likely not what you want:`\n",
    "```\n",
    "arr = np.random.randn(2, 2)\n",
    "arr\n",
    "array([[-1.2035238 ,  0.05843907],\n",
    "       [-1.08394347,  0.04839468]])      \n",
    "arr.repeat(2)\n",
    "array([-1.2035238 , -1.2035238 ,  0.05843907,  0.05843907, -1.08394347,\n",
    "       -1.08394347,  0.04839468,  0.04839468])\n",
    "```\n",
    "* `Similarly, you can pass an array of integers when repeating a multidimensional array to repeat a given slice a different number of times:`\n",
    "```\n",
    "arr.repeat([2, 3], axis=0)\n",
    "array([[-2.0016, -0.3718],\n",
    "        [-2.0016, -0.3718],\n",
    "        [ 1.669 , -0.4386],\n",
    "        [ 1.669 , -0.4386],\n",
    "        [ 1.669 , -0.4386]])\n",
    "arr.repeat([2, 3], axis=1)\n",
    "array([[-2.0016, -2.0016, -0.3718, -0.3718, -0.3718],\n",
    "        [ 1.669 , 1.669 , -0.4386, -0.4386, -0.4386]])\n",
    "```\n",
    "\n",
    "* **np.tile(arr, axisNum)** `tile is a shortcut for stacking copies of an array along an axis. The second argument is the number of tiles; with a scalar, the <b>tiling is made row by row</b>, rather than column by column.`\n",
    "```\n",
    "In [62]: arr\n",
    "Out[62]:\n",
    "array([[-2.0016, -0.3718],\n",
    "        [ 1.669 , -0.4386]])\n",
    "In [63]: np.tile(arr, 2)\n",
    "Out[63]:\n",
    "array([[-2.0016, -0.3718, -2.0016, -0.3718],\n",
    "        [ 1.669 , -0.4386, 1.669 , -0.4386]])\n",
    "```"
   ]
  },
  {
   "attachments": {
    "1.PNG": {
     "image/png": "[encoded data removed]"
    },
    "3.PNG": {
     "image/png": "[encoded data removed]"
    }
   },
   "cell_type": "markdown",
   "metadata": {},
   "source": [
    "# `Theory`\n",
    "* **Calling `astype` always creates a `new array` `(a copy of the data)`, even if the new dtype is the same as the old dtype.**\n",
    "* **vectorization**: **Any arithmetic operations `between equal-size arrays` applies the operation element-wise**\n",
    "* **Comparisons between arrays of the <u>same size</u> yield <u>boolean arrays</u>**\n",
    "* Operations between <b>differently sized</b> arrays is called <b>broadcasting</b>\n",
    "* <b>array slices are `views` on the original array</b>.\n",
    "* The <b>“bare” slice [:]</b> will assign to all values in an array: `arr_slice[:] = 45`\n",
    "* <b>As NumPy has been designed to be able to work with very large arrays, you could imagine performance and memory problems if NumPy insisted on always copying data</b>\n",
    "* In a <b>`2d array`, the `elements at each index` are no longer scalars but rather <u>`1d arrays`</u></b>\n",
    "![1.PNG](attachment:1.PNG)\n",
    "* **The boolean array must be of the same length as the array axis it’s indexing.**\n",
    "* **Boolean selection `will not fail` if the boolean array is not the correct length, so I recommend care when using this feature`**\n",
    "* **Selecting data from an array by <u>boolean indexing</u> `always creates a copy of the data`, even if the returned array is unchanged.**\n",
    "* **Fancy indexing is a term to describe `indexing using integer arrays`**\n",
    "* **the result of fancy indexing is always `one-dimensional`.**\n",
    "* **Keep in mind that `fancy indexing`, unlike slicing, `always copies` the data into a new array.**\n",
    "* **Boolean values are coerced to `1 (True)` and `0 (False)` in the preceding methods. Thus, `sum` is often used as a means of `counting True values in a boolean array`: ```(arr > 0).sum() # Number of positive values```**\n",
    "* **NumPy is able to save and load data to and from disk either in text or `binary format(we will learn this)`**\n",
    "### Appendix section A2\n",
    "![3.PNG](attachment:3.PNG)\n",
    "* **One of the passed shape dimensions can be <u>–1</u>, in which case the value used for that dimension will be inferred from the data:**\n",
    "```\n",
    "arr = np.arange(15)\n",
    "arr.reshape((5, -1))\n",
    "array([[ 0, 1, 2],\n",
    "          [ 3, 4, 5],\n",
    "          [ 6, 7, 8],\n",
    "          [ 9, 10, 11],\n",
    "          [12, 13, 14]])\n",
    "```\n",
    "\n",
    "* **NumPy gives you control and flexibility `over the layout of your data in memory`. By `default`, NumPy arrays are created in `row major order`. This means that if you have a two-dimensional array of data, the items in each row of the array are stored in adjacent memory locations. The alternative to row major ordering is column major order, which means that values within each column of data are stored in adjacent memory locations.**\n",
    "* **Functions like `reshape` and `ravel` accept an order argument indicating the order to use the data in the array. This is usually set to `'C'` or `'F'` in most cases (there are also `less commonly used options 'A' and 'K'`;**\n",
    "\n",
    "```\n",
    "arr\n",
    "array([[ 0, 1, 2, 3],\n",
    "        [ 4, 5, 6, 7],\n",
    "        [ 8, 9, 10, 11]])\n",
    "```\n",
    "\n",
    "```\n",
    "arr.ravel()\n",
    "array([ 0, 1, 2, 3, 4, 5, 6, 7, 8, 9, 10, 11])\n",
    "```\n",
    "\n",
    "```\n",
    "arr.ravel('F')\n",
    "array([ 0, 4, 8, 1, 5, 9, 2, 6, 10, 3, 7, 11])\n",
    "```\n",
    "\n",
    "* **The key difference between C and Fortran order is the way in which the dimensions are walked:**\n",
    "\n",
    "### C/row major order\n",
    "**Traverse higher dimensions `first` (e.g., axis 1 before advancing on axis 0).**\n",
    "\n",
    "### Fortran/column major order\n",
    "**Traverse higher dimensions `last` (e.g., axis 0 before advancing on axis 1).**\n"
   ]
  },
  {
   "cell_type": "markdown",
   "metadata": {},
   "source": [
    "# Three Dimensional data\n",
    "* 3D data is a collection of 2D data-points(matrix). The shape of 3D data would be **(N,Row/Vector,Col/Scalar)**. \n",
    "* **There would be N matrices of shape (M,P).**\n",
    "*  where **N** is the **number of matrices** in it and **Row/Vector** is the **number of vectors in each matrics**"
   ]
  },
  {
   "cell_type": "code",
   "execution_count": 3,
   "metadata": {},
   "outputs": [
    {
     "data": {
      "text/plain": [
       "array([[[1, 1, 1],\n",
       "        [3, 3, 3]],\n",
       "\n",
       "       [[2, 2, 2],\n",
       "        [4, 4, 4]]])"
      ]
     },
     "execution_count": 3,
     "metadata": {},
     "output_type": "execute_result"
    }
   ],
   "source": [
    "arr3d = np.array([[[1,1,1],[3,3,3]],[[2,2,2],[4,4,4]]])\n",
    "arr3d"
   ]
  },
  {
   "cell_type": "markdown",
   "metadata": {},
   "source": [
    "### Applying sum function\n",
    "* 1) Applying sum function across `axis-0` means you are `summing all matrices together`.\n",
    "* 2) Applying sum function across `axis-1` means you are `summing all vectors inside each metrics`.\n",
    "* 3) Applying sum function across `axis-2` means you are `summing all scalars inside each Vector`."
   ]
  },
  {
   "cell_type": "code",
   "execution_count": 28,
   "metadata": {},
   "outputs": [
    {
     "data": {
      "text/plain": [
       "array([[3, 3, 3],\n",
       "       [7, 7, 7]])"
      ]
     },
     "execution_count": 28,
     "metadata": {},
     "output_type": "execute_result"
    }
   ],
   "source": [
    "# 1)\n",
    "np.sum(arr3d, axis=0)"
   ]
  },
  {
   "cell_type": "code",
   "execution_count": 6,
   "metadata": {},
   "outputs": [
    {
     "data": {
      "text/plain": [
       "array([[4, 4, 4],\n",
       "       [6, 6, 6]])"
      ]
     },
     "execution_count": 6,
     "metadata": {},
     "output_type": "execute_result"
    }
   ],
   "source": [
    "# 2)\n",
    "np.sum(arr3d, axis=1)"
   ]
  },
  {
   "cell_type": "code",
   "execution_count": 7,
   "metadata": {},
   "outputs": [
    {
     "data": {
      "text/plain": [
       "array([[ 3,  9],\n",
       "       [ 6, 12]])"
      ]
     },
     "execution_count": 7,
     "metadata": {},
     "output_type": "execute_result"
    }
   ],
   "source": [
    "# 3)\n",
    "np.sum(arr3d, axis=2)"
   ]
  },
  {
   "cell_type": "code",
   "execution_count": 19,
   "metadata": {
    "scrolled": true
   },
   "outputs": [
    {
     "name": "stdout",
     "output_type": "stream",
     "text": [
      "[[[ 0  1  2  3  4]\n",
      "  [ 5  6  7  8  9]]\n",
      "\n",
      " [[10 11 12 13 14]\n",
      "  [15 16 17 18 19]]\n",
      "\n",
      " [[20 21 22 23 24]\n",
      "  [25 26 27 28 29]]]\n"
     ]
    }
   ],
   "source": [
    "x_test = np.arange(30).reshape(3, 2, 5)    #   (3,2,5)\n",
    "\n",
    "print(x_test)"
   ]
  },
  {
   "cell_type": "markdown",
   "metadata": {},
   "source": [
    "# Transposing Arrays and swapping axis\n",
    "* **Transposing is a special form of reshaping that similarly returns a `view` on the underlying data `without copying` anything. Arrays have the `transpose` method and also the special `T` attribute**\n",
    "* **For higher dimensional arrays, transpose will accept a tuple of axis numbers to permute the axes**\n",
    "* **ndarray has the method `swapaxes`, which takes a `pair of axis numbers` and `switches the indicated axes` to rearrange the data**"
   ]
  },
  {
   "cell_type": "code",
   "execution_count": 20,
   "metadata": {},
   "outputs": [
    {
     "data": {
      "text/plain": [
       "array([[[ 0,  1,  2,  3,  4],\n",
       "        [ 5,  6,  7,  8,  9]],\n",
       "\n",
       "       [[10, 11, 12, 13, 14],\n",
       "        [15, 16, 17, 18, 19]],\n",
       "\n",
       "       [[20, 21, 22, 23, 24],\n",
       "        [25, 26, 27, 28, 29]]])"
      ]
     },
     "execution_count": 20,
     "metadata": {},
     "output_type": "execute_result"
    }
   ],
   "source": [
    "# np.transpose()\n",
    "np.transpose(x_test,(0,1,2))   # (2,1,0), (2,0,1), (1,0,2), (1,2,0), (0,2,1)"
   ]
  },
  {
   "cell_type": "code",
   "execution_count": 21,
   "metadata": {},
   "outputs": [
    {
     "name": "stdout",
     "output_type": "stream",
     "text": [
      "[[[ 0  1  2  3  4]\n",
      "  [ 5  6  7  8  9]]\n",
      "\n",
      " [[10 11 12 13 14]\n",
      "  [15 16 17 18 19]]\n",
      "\n",
      " [[20 21 22 23 24]\n",
      "  [25 26 27 28 29]]]\n"
     ]
    }
   ],
   "source": [
    "print(x_test)"
   ]
  },
  {
   "cell_type": "code",
   "execution_count": 22,
   "metadata": {
    "scrolled": true
   },
   "outputs": [
    {
     "data": {
      "text/plain": [
       "array([[[ 0,  5],\n",
       "        [ 1,  6],\n",
       "        [ 2,  7],\n",
       "        [ 3,  8],\n",
       "        [ 4,  9]],\n",
       "\n",
       "       [[10, 15],\n",
       "        [11, 16],\n",
       "        [12, 17],\n",
       "        [13, 18],\n",
       "        [14, 19]],\n",
       "\n",
       "       [[20, 25],\n",
       "        [21, 26],\n",
       "        [22, 27],\n",
       "        [23, 28],\n",
       "        [24, 29]]])"
      ]
     },
     "execution_count": 22,
     "metadata": {},
     "output_type": "execute_result"
    }
   ],
   "source": [
    "np.transpose(x_test,(0,2,1))  # (3,2,5)  =>>>> (3,5,2)"
   ]
  },
  {
   "cell_type": "code",
   "execution_count": 24,
   "metadata": {},
   "outputs": [
    {
     "name": "stdout",
     "output_type": "stream",
     "text": [
      "[[[ 0  1  2  3  4]\n",
      "  [ 5  6  7  8  9]]\n",
      "\n",
      " [[10 11 12 13 14]\n",
      "  [15 16 17 18 19]]\n",
      "\n",
      " [[20 21 22 23 24]\n",
      "  [25 26 27 28 29]]]\n"
     ]
    },
    {
     "data": {
      "text/plain": [
       "array([[[ 0,  5],\n",
       "        [10, 15],\n",
       "        [20, 25]],\n",
       "\n",
       "       [[ 1,  6],\n",
       "        [11, 16],\n",
       "        [21, 26]],\n",
       "\n",
       "       [[ 2,  7],\n",
       "        [12, 17],\n",
       "        [22, 27]],\n",
       "\n",
       "       [[ 3,  8],\n",
       "        [13, 18],\n",
       "        [23, 28]],\n",
       "\n",
       "       [[ 4,  9],\n",
       "        [14, 19],\n",
       "        [24, 29]]])"
      ]
     },
     "execution_count": 24,
     "metadata": {},
     "output_type": "execute_result"
    }
   ],
   "source": [
    "print(x_test)\n",
    "np.transpose(x_test,(2,0,1))  # (3,2,5)  =>>>> (5,3,2)"
   ]
  },
  {
   "cell_type": "markdown",
   "metadata": {},
   "source": [
    "## swapaxes()\n",
    "* **takes a pair of axis numbers and switches the indicated axes to rearrange the data**\n",
    "* **swapaxes returns a `view on the data` `without making a copy`.**"
   ]
  },
  {
   "cell_type": "code",
   "execution_count": 26,
   "metadata": {},
   "outputs": [
    {
     "data": {
      "text/plain": [
       "array([[[ 0,  1,  2,  3],\n",
       "        [ 4,  5,  6,  7]],\n",
       "\n",
       "       [[ 8,  9, 10, 11],\n",
       "        [12, 13, 14, 15]]])"
      ]
     },
     "execution_count": 26,
     "metadata": {},
     "output_type": "execute_result"
    }
   ],
   "source": [
    "arr = np.arange(16).reshape((2, 2, 4))\n",
    "arr"
   ]
  },
  {
   "cell_type": "code",
   "execution_count": 27,
   "metadata": {},
   "outputs": [
    {
     "data": {
      "text/plain": [
       "array([[[ 0,  4],\n",
       "        [ 1,  5],\n",
       "        [ 2,  6],\n",
       "        [ 3,  7]],\n",
       "\n",
       "       [[ 8, 12],\n",
       "        [ 9, 13],\n",
       "        [10, 14],\n",
       "        [11, 15]]])"
      ]
     },
     "execution_count": 27,
     "metadata": {},
     "output_type": "execute_result"
    }
   ],
   "source": [
    "arr.swapaxes(1, 2)"
   ]
  },
  {
   "cell_type": "code",
   "execution_count": 31,
   "metadata": {},
   "outputs": [
    {
     "name": "stdout",
     "output_type": "stream",
     "text": [
      "[ 1  2  3  4  5  6  7  8  9 10]\n",
      "================================\n",
      "[11 12 13 14 15 16 17 18 19 20]\n"
     ]
    }
   ],
   "source": [
    "arr1 = np.arange(1,11)\n",
    "print(arr1)\n",
    "print(\"================================\")\n",
    "arr2 = np.arange(11,21)\n",
    "print(arr2)"
   ]
  },
  {
   "cell_type": "markdown",
   "metadata": {},
   "source": [
    "## `np.greater()`\n",
    "* Perform element-wise comparison, returning boolean array\n",
    "* same as `>` operator in python"
   ]
  },
  {
   "cell_type": "code",
   "execution_count": 33,
   "metadata": {},
   "outputs": [
    {
     "data": {
      "text/plain": [
       "array([False, False, False, False, False, False, False, False, False,\n",
       "       False])"
      ]
     },
     "execution_count": 33,
     "metadata": {},
     "output_type": "execute_result"
    }
   ],
   "source": [
    "np.greater(arr1,arr2)"
   ]
  },
  {
   "cell_type": "markdown",
   "metadata": {},
   "source": [
    "## np.greater_equal()\n",
    "* same as `>=` in python"
   ]
  },
  {
   "cell_type": "code",
   "execution_count": 36,
   "metadata": {},
   "outputs": [
    {
     "data": {
      "text/plain": [
       "array([False, False, False, False, False, False, False, False, False,\n",
       "       False])"
      ]
     },
     "execution_count": 36,
     "metadata": {},
     "output_type": "execute_result"
    }
   ],
   "source": [
    "np.greater_equal(arr1,arr2)"
   ]
  },
  {
   "cell_type": "markdown",
   "metadata": {},
   "source": [
    "## np.less()\n",
    "* sames as `<` in python"
   ]
  },
  {
   "cell_type": "code",
   "execution_count": 38,
   "metadata": {},
   "outputs": [
    {
     "data": {
      "text/plain": [
       "array([ True,  True,  True,  True,  True,  True,  True,  True,  True,\n",
       "        True])"
      ]
     },
     "execution_count": 38,
     "metadata": {},
     "output_type": "execute_result"
    }
   ],
   "source": [
    "np.less(arr1,arr2)"
   ]
  },
  {
   "cell_type": "markdown",
   "metadata": {},
   "source": [
    "## np.less_equal()\n",
    "* same as `<=` in python"
   ]
  },
  {
   "cell_type": "code",
   "execution_count": 39,
   "metadata": {},
   "outputs": [
    {
     "data": {
      "text/plain": [
       "array([ True,  True,  True,  True,  True,  True,  True,  True,  True,\n",
       "        True])"
      ]
     },
     "execution_count": 39,
     "metadata": {},
     "output_type": "execute_result"
    }
   ],
   "source": [
    "np.less_equal(arr1,arr2)"
   ]
  },
  {
   "cell_type": "markdown",
   "metadata": {},
   "source": [
    "## np.logical_and()\n",
    "* Compute element-wise truth value of logical operation\n",
    "* same as `&` in numpy"
   ]
  },
  {
   "cell_type": "code",
   "execution_count": 49,
   "metadata": {},
   "outputs": [
    {
     "data": {
      "text/plain": [
       "False"
      ]
     },
     "execution_count": 49,
     "metadata": {},
     "output_type": "execute_result"
    }
   ],
   "source": [
    "np.logical_and(True,False)"
   ]
  },
  {
   "cell_type": "code",
   "execution_count": 50,
   "metadata": {},
   "outputs": [
    {
     "data": {
      "text/plain": [
       "array([False, False])"
      ]
     },
     "execution_count": 50,
     "metadata": {},
     "output_type": "execute_result"
    }
   ],
   "source": [
    "np.logical_and([True, False], [False, False])"
   ]
  },
  {
   "cell_type": "code",
   "execution_count": 67,
   "metadata": {},
   "outputs": [
    {
     "name": "stdout",
     "output_type": "stream",
     "text": [
      "[0 1 2 3 4]\n",
      "[False False  True  True  True]\n",
      "[ True  True  True  True False]\n"
     ]
    }
   ],
   "source": [
    "x = np.arange(5)\n",
    "print(x)\n",
    "\n",
    "x1 = x > 1\n",
    "print(x1)\n",
    "x2 = x < 4\n",
    "print(x2)"
   ]
  },
  {
   "cell_type": "code",
   "execution_count": 59,
   "metadata": {},
   "outputs": [
    {
     "data": {
      "text/plain": [
       "array([False, False,  True,  True, False])"
      ]
     },
     "execution_count": 59,
     "metadata": {},
     "output_type": "execute_result"
    }
   ],
   "source": [
    "np.logical_and(x>1, x<4)"
   ]
  },
  {
   "cell_type": "markdown",
   "metadata": {},
   "source": [
    "## Array wise comparision"
   ]
  },
  {
   "cell_type": "code",
   "execution_count": 61,
   "metadata": {},
   "outputs": [],
   "source": [
    "a = np.array([1,2,3,4])\n",
    "b = np.array([2,4,6,8])\n",
    "c = np.array([1,2,3,4])"
   ]
  },
  {
   "cell_type": "code",
   "execution_count": 62,
   "metadata": {},
   "outputs": [
    {
     "data": {
      "text/plain": [
       "False"
      ]
     },
     "execution_count": 62,
     "metadata": {},
     "output_type": "execute_result"
    }
   ],
   "source": [
    "np.array_equal(a,b)"
   ]
  },
  {
   "cell_type": "code",
   "execution_count": 63,
   "metadata": {},
   "outputs": [
    {
     "data": {
      "text/plain": [
       "True"
      ]
     },
     "execution_count": 63,
     "metadata": {},
     "output_type": "execute_result"
    }
   ],
   "source": [
    "np.array_equal(a,c)"
   ]
  },
  {
   "cell_type": "markdown",
   "metadata": {},
   "source": [
    "## Logical Operations"
   ]
  },
  {
   "cell_type": "code",
   "execution_count": 64,
   "metadata": {},
   "outputs": [],
   "source": [
    "a = np.array([1,1,0,0])\n",
    "b = np.array([1,0,1,0])"
   ]
  },
  {
   "cell_type": "markdown",
   "metadata": {},
   "source": [
    "### logical_or()"
   ]
  },
  {
   "cell_type": "code",
   "execution_count": 65,
   "metadata": {},
   "outputs": [
    {
     "data": {
      "text/plain": [
       "array([ True,  True,  True, False])"
      ]
     },
     "execution_count": 65,
     "metadata": {},
     "output_type": "execute_result"
    }
   ],
   "source": [
    "np.logical_or(a,b)"
   ]
  },
  {
   "cell_type": "markdown",
   "metadata": {},
   "source": [
    "### logical_and()"
   ]
  },
  {
   "cell_type": "code",
   "execution_count": 66,
   "metadata": {},
   "outputs": [
    {
     "data": {
      "text/plain": [
       "array([ True, False, False, False])"
      ]
     },
     "execution_count": 66,
     "metadata": {},
     "output_type": "execute_result"
    }
   ],
   "source": [
    "np.logical_and(a,b)"
   ]
  },
  {
   "cell_type": "markdown",
   "metadata": {},
   "source": [
    "# Stacking helpers: r_ and c_\n",
    "* There are two special objects in the NumPy namespace, r_ and c_, that make stacking arrays more concise:"
   ]
  },
  {
   "cell_type": "code",
   "execution_count": 3,
   "metadata": {},
   "outputs": [
    {
     "data": {
      "text/plain": [
       "array([0, 1, 2, 3, 4, 5])"
      ]
     },
     "execution_count": 3,
     "metadata": {},
     "output_type": "execute_result"
    }
   ],
   "source": [
    "arr = np.arange(6)\n",
    "arr"
   ]
  },
  {
   "cell_type": "code",
   "execution_count": 4,
   "metadata": {},
   "outputs": [
    {
     "data": {
      "text/plain": [
       "array([[0, 1],\n",
       "       [2, 3],\n",
       "       [4, 5]])"
      ]
     },
     "execution_count": 4,
     "metadata": {},
     "output_type": "execute_result"
    }
   ],
   "source": [
    "arr1 = arr.reshape((3, 2))\n",
    "arr1"
   ]
  },
  {
   "cell_type": "code",
   "execution_count": 5,
   "metadata": {},
   "outputs": [
    {
     "data": {
      "text/plain": [
       "array([[ 0.08233373, -1.0915393 ],\n",
       "       [-0.49037529,  0.85509949],\n",
       "       [ 2.06904791, -1.19188202]])"
      ]
     },
     "execution_count": 5,
     "metadata": {},
     "output_type": "execute_result"
    }
   ],
   "source": [
    "arr2 = np.random.randn(3, 2)\n",
    "arr2"
   ]
  },
  {
   "cell_type": "code",
   "execution_count": 6,
   "metadata": {},
   "outputs": [
    {
     "data": {
      "text/plain": [
       "array([[ 0.        ,  1.        ],\n",
       "       [ 2.        ,  3.        ],\n",
       "       [ 4.        ,  5.        ],\n",
       "       [ 0.08233373, -1.0915393 ],\n",
       "       [-0.49037529,  0.85509949],\n",
       "       [ 2.06904791, -1.19188202]])"
      ]
     },
     "execution_count": 6,
     "metadata": {},
     "output_type": "execute_result"
    }
   ],
   "source": [
    "np.r_[arr1, arr2]"
   ]
  },
  {
   "cell_type": "code",
   "execution_count": 9,
   "metadata": {},
   "outputs": [
    {
     "data": {
      "text/plain": [
       "array([[ 0.        ,  1.        ,  0.        ],\n",
       "       [ 2.        ,  3.        ,  1.        ],\n",
       "       [ 4.        ,  5.        ,  2.        ],\n",
       "       [ 0.08233373, -1.0915393 ,  3.        ],\n",
       "       [-0.49037529,  0.85509949,  4.        ],\n",
       "       [ 2.06904791, -1.19188202,  5.        ]])"
      ]
     },
     "execution_count": 9,
     "metadata": {},
     "output_type": "execute_result"
    }
   ],
   "source": [
    "np.c_[np.r_[arr1, arr2], arr]"
   ]
  },
  {
   "cell_type": "code",
   "execution_count": 10,
   "metadata": {},
   "outputs": [
    {
     "data": {
      "text/plain": [
       "array([[  1, -10],\n",
       "       [  2,  -9],\n",
       "       [  3,  -8],\n",
       "       [  4,  -7],\n",
       "       [  5,  -6]])"
      ]
     },
     "execution_count": 10,
     "metadata": {},
     "output_type": "execute_result"
    }
   ],
   "source": [
    "# These additionally can translate slices to arrays:\n",
    "np.c_[1:6, -10:-5]"
   ]
  },
  {
   "cell_type": "markdown",
   "metadata": {},
   "source": [
    "# Fancy Indexing Equivalents: take and put\n",
    "* As you may recall from Chapter 4, one way to get and set subsets of arrays is by fancy indexing using integer arrays:"
   ]
  },
  {
   "cell_type": "code",
   "execution_count": 13,
   "metadata": {},
   "outputs": [
    {
     "data": {
      "text/plain": [
       "array([  0, 100, 200, 300, 400, 500, 600, 700, 800, 900])"
      ]
     },
     "execution_count": 13,
     "metadata": {},
     "output_type": "execute_result"
    }
   ],
   "source": [
    "arr = np.arange(10) * 100\n",
    "arr"
   ]
  },
  {
   "cell_type": "code",
   "execution_count": 14,
   "metadata": {},
   "outputs": [],
   "source": [
    "inds = [7, 1, 2, 6]"
   ]
  },
  {
   "cell_type": "code",
   "execution_count": 15,
   "metadata": {},
   "outputs": [
    {
     "data": {
      "text/plain": [
       "array([700, 100, 200, 600])"
      ]
     },
     "execution_count": 15,
     "metadata": {},
     "output_type": "execute_result"
    }
   ],
   "source": [
    "arr[inds]"
   ]
  },
  {
   "cell_type": "markdown",
   "metadata": {},
   "source": [
    "#### There are alternative ndarray methods that are useful in the special case of `only making a selection` `on a single axis`:"
   ]
  },
  {
   "cell_type": "code",
   "execution_count": 16,
   "metadata": {},
   "outputs": [
    {
     "data": {
      "text/plain": [
       "array([700, 100, 200, 600])"
      ]
     },
     "execution_count": 16,
     "metadata": {},
     "output_type": "execute_result"
    }
   ],
   "source": [
    "arr.take(inds)"
   ]
  },
  {
   "cell_type": "code",
   "execution_count": 17,
   "metadata": {},
   "outputs": [],
   "source": [
    "arr.put(inds, 42)"
   ]
  },
  {
   "cell_type": "code",
   "execution_count": 18,
   "metadata": {},
   "outputs": [
    {
     "data": {
      "text/plain": [
       "array([  0,  42,  42, 300, 400, 500,  42,  42, 800, 900])"
      ]
     },
     "execution_count": 18,
     "metadata": {},
     "output_type": "execute_result"
    }
   ],
   "source": [
    "arr"
   ]
  },
  {
   "cell_type": "code",
   "execution_count": 19,
   "metadata": {},
   "outputs": [],
   "source": [
    "arr.put(inds, [40, 41, 42, 43])"
   ]
  },
  {
   "cell_type": "code",
   "execution_count": 20,
   "metadata": {},
   "outputs": [
    {
     "data": {
      "text/plain": [
       "array([  0,  41,  42, 300, 400, 500,  43,  40, 800, 900])"
      ]
     },
     "execution_count": 20,
     "metadata": {},
     "output_type": "execute_result"
    }
   ],
   "source": [
    "arr"
   ]
  },
  {
   "cell_type": "markdown",
   "metadata": {},
   "source": [
    "#### To use `take` `along other axes`, you can pass the `axis keyword`:"
   ]
  },
  {
   "cell_type": "code",
   "execution_count": 21,
   "metadata": {},
   "outputs": [],
   "source": [
    "inds = [2, 0, 2, 1]"
   ]
  },
  {
   "cell_type": "code",
   "execution_count": 28,
   "metadata": {},
   "outputs": [
    {
     "data": {
      "text/plain": [
       "array([[-0.41084115,  0.63376438,  1.07303783, -1.91632259],\n",
       "       [ 1.5397761 ,  0.72241034,  0.57322275,  1.05599246]])"
      ]
     },
     "execution_count": 28,
     "metadata": {},
     "output_type": "execute_result"
    }
   ],
   "source": [
    "arr = np.random.randn(2, 4)\n",
    "arr"
   ]
  },
  {
   "cell_type": "code",
   "execution_count": 29,
   "metadata": {},
   "outputs": [
    {
     "data": {
      "text/plain": [
       "array([[ 1.07303783, -0.41084115,  1.07303783,  0.63376438],\n",
       "       [ 0.57322275,  1.5397761 ,  0.57322275,  0.72241034]])"
      ]
     },
     "execution_count": 29,
     "metadata": {},
     "output_type": "execute_result"
    }
   ],
   "source": [
    "arr.take(inds, axis=1)"
   ]
  },
  {
   "cell_type": "markdown",
   "metadata": {},
   "source": [
    "#### put does not accept an axis argument but rather indexes into the flattened (onedimensional, C order) version of the array."
   ]
  }
 ],
 "metadata": {
  "kernelspec": {
   "display_name": "Python 3",
   "language": "python",
   "name": "python3"
  },
  "language_info": {
   "codemirror_mode": {
    "name": "ipython",
    "version": 3
   },
   "file_extension": ".py",
   "mimetype": "text/x-python",
   "name": "python",
   "nbconvert_exporter": "python",
   "pygments_lexer": "ipython3",
   "version": "3.8.3"
  }
 },
 "nbformat": 4,
 "nbformat_minor": 4
}
